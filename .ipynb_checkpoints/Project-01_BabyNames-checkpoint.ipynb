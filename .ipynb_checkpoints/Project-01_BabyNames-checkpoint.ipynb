{
 "cells": [
  {
   "cell_type": "markdown",
   "metadata": {},
   "source": [
    "# Popularity of Baby Names Over Time"
   ]
  },
  {
   "cell_type": "markdown",
   "metadata": {},
   "source": [
    "Data Source: https://www.ssa.gov/oact/babynames/limits.html"
   ]
  },
  {
   "cell_type": "markdown",
   "metadata": {},
   "source": [
    "Read the files into a string"
   ]
  },
  {
   "cell_type": "code",
   "execution_count": 6,
   "metadata": {
    "collapsed": true
   },
   "outputs": [],
   "source": [
    "pre = open(\"./data/names_yob1880.txt\",\"r\")\n",
    "post = open(\"./data/names_yob2015.txt\",\"r\")\n",
    "\n",
    "pre_strng = pre.read()\n",
    "post_strng = post.read()"
   ]
  },
  {
   "cell_type": "markdown",
   "metadata": {},
   "source": [
    "Convert the string to a list"
   ]
  },
  {
   "cell_type": "code",
   "execution_count": 10,
   "metadata": {
    "collapsed": false
   },
   "outputs": [],
   "source": [
    "pre_list = pre_strng.split('\\n')\n",
    "post_list = post_strng.split('\\n')"
   ]
  },
  {
   "cell_type": "markdown",
   "metadata": {},
   "source": [
    "Convert list of strings to list of lists"
   ]
  },
  {
   "cell_type": "code",
   "execution_count": 18,
   "metadata": {
    "collapsed": false
   },
   "outputs": [
    {
     "name": "stdout",
     "output_type": "stream",
     "text": [
      "1880:  [['Mary', 'F', '7065'], ['Anna', 'F', '2604'], ['Emma', 'F', '2003'], ['Elizabeth', 'F', '1939'], ['Minnie', 'F', '1746']]\n",
      "2015:  [['Emma', 'F', '20355'], ['Olivia', 'F', '19553'], ['Sophia', 'F', '17327'], ['Ava', 'F', '16286'], ['Isabella', 'F', '15504']]\n"
     ]
    }
   ],
   "source": [
    "pre_nested_list = []\n",
    "for row in pre_list:\n",
    "    comma_list = row.split(',')\n",
    "    pre_nested_list.append(comma_list)\n",
    "    \n",
    "post_nested_list = []\n",
    "for row in post_list:\n",
    "    comma_list = row.split(',')\n",
    "    post_nested_list.append(comma_list)\n",
    "\n",
    "print(\"1880: \", pre_nested_list[0:5])\n",
    "print(\"2015: \", post_nested_list[0:5])"
   ]
  },
  {
   "cell_type": "markdown",
   "metadata": {},
   "source": [
    "Convert numerical values"
   ]
  },
  {
   "cell_type": "code",
   "execution_count": 100,
   "metadata": {
    "collapsed": false
   },
   "outputs": [
    {
     "name": "stdout",
     "output_type": "stream",
     "text": [
      "[['Mary', 'F', 7065], ['Anna', 'F', 2604], ['Emma', 'F', 2003], ['Elizabeth', 'F', 1939], ['Minnie', 'F', 1746]]\n",
      "[['Emma', 'F', 20355], ['Olivia', 'F', 19553], ['Sophia', 'F', 17327], ['Ava', 'F', 16286], ['Isabella', 'F', 15504]]\n"
     ]
    }
   ],
   "source": [
    "pre_numerical_list = []\n",
    "for row in pre_nested_list[0:-1]:\n",
    "    aname = row[0]\n",
    "    asex = row[1]\n",
    "    anum = int(row[2])\n",
    "    new_list = [aname, asex, anum]\n",
    "    pre_numerical_list.append(new_list)\n",
    "    \n",
    "post_numerical_list = []\n",
    "for row in post_nested_list[0:-1]:\n",
    "    bname = row[0]\n",
    "    bsex = row[1]\n",
    "    bnum = int(row[2])\n",
    "    new_list = [bname, bsex, bnum]\n",
    "    post_numerical_list.append(new_list)\n",
    "    \n",
    "print(pre_numerical_list[0:5])\n",
    "print(post_numerical_list[0:5])"
   ]
  },
  {
   "cell_type": "code",
   "execution_count": 120,
   "metadata": {
    "collapsed": false
   },
   "outputs": [
    {
     "name": "stdout",
     "output_type": "stream",
     "text": [
      "[['Mary', 'F', 7065], ['John', 'M', 9655], ['William', 'M', 9531], ['James', 'M', 5927], ['Charles', 'M', 5348], ['George', 'M', 5126]]\n",
      "[['Emma', 'F', 20355], ['Olivia', 'F', 19553], ['Sophia', 'F', 17327], ['Noah', 'M', 19511], ['Liam', 'M', 18281]]\n"
     ]
    }
   ],
   "source": [
    "pre_thousand_or_greater = []\n",
    "for list in pre_numerical_list:\n",
    "    if list[2] >= 5000:\n",
    "        pre_thousand_or_greater.append(list)\n",
    "        \n",
    "print(pre_thousand_or_greater)\n",
    "\n",
    "post_thousand_or_greater = []\n",
    "for list in post_numerical_list:\n",
    "    if list[2] >= 17000:\n",
    "        post_thousand_or_greater.append(list)\n",
    "        \n",
    "print(post_thousand_or_greater)"
   ]
  },
  {
   "cell_type": "markdown",
   "metadata": {},
   "source": [
    "Questions to ask: is there more variety now? (m/f/both?)"
   ]
  },
  {
   "cell_type": "code",
   "execution_count": 123,
   "metadata": {
    "collapsed": false
   },
   "outputs": [
    {
     "name": "stdout",
     "output_type": "stream",
     "text": [
      "2000\n",
      "32952\n"
     ]
    }
   ],
   "source": [
    "pre_count = 0\n",
    "post_count = 0\n",
    "\n",
    "for item in pre_numerical_list:\n",
    "    pre_count += 1\n",
    "    \n",
    "for item in post_numerical_list:\n",
    "    post_count += 1\n",
    "\n",
    "print(pre_count)\n",
    "print(post_count)"
   ]
  },
  {
   "cell_type": "code",
   "execution_count": null,
   "metadata": {
    "collapsed": true
   },
   "outputs": [],
   "source": []
  }
 ],
 "metadata": {
  "kernelspec": {
   "display_name": "Python 3",
   "language": "python",
   "name": "python3"
  },
  "language_info": {
   "codemirror_mode": {
    "name": "ipython",
    "version": 3
   },
   "file_extension": ".py",
   "mimetype": "text/x-python",
   "name": "python",
   "nbconvert_exporter": "python",
   "pygments_lexer": "ipython3",
   "version": "3.6.0"
  }
 },
 "nbformat": 4,
 "nbformat_minor": 2
}

{
 "cells": [
  {
   "cell_type": "markdown",
   "metadata": {},
   "source": [
    "## Goodreads Exploration"
   ]
  },
  {
   "cell_type": "markdown",
   "metadata": {},
   "source": [
    "Exploratory data analysis of book reviews on [Goodreads](https://www.goodreads.com/)\n",
    "\n",
    "### Preliminary Questions\n",
    "* Which books have the highest ratings? \n",
    "* What does the distribution of ratings look like? \n",
    "* Which have been rated the most? \n",
    "* Do older books have higher ratings and more ratings than newer books?\n",
    "\n",
    "#### Other Questions to Consider (need new dataset)\n",
    "More F or M users? Do F or M authors receive higher ratings/more ratings? Do F users give F authors higher ratings (compared to F-M, M-F, M-M)? Same questions for genres. Same questions for years (do F or M rate older books higher/more often)? Age (older rate books differently)? Are older people leaving more reviews?"
   ]
  },
  {
   "cell_type": "markdown",
   "metadata": {},
   "source": [
    "----"
   ]
  },
  {
   "cell_type": "code",
   "execution_count": 29,
   "metadata": {
    "collapsed": true
   },
   "outputs": [],
   "source": [
    "import numpy as np\n",
    "import scipy as sp\n",
    "import matplotlib as mpl\n",
    "import matplotlib.cm as cm\n",
    "import matplotlib.pyplot as plt\n",
    "import pandas as pd\n",
    "import seaborn as sns"
   ]
  },
  {
   "cell_type": "markdown",
   "metadata": {},
   "source": [
    "### 1. Read Data \n",
    "from CSV of 6000 books scraped from Goodreads"
   ]
  },
  {
   "cell_type": "code",
   "execution_count": 2,
   "metadata": {
    "collapsed": false
   },
   "outputs": [
    {
     "data": {
      "text/html": [
       "<div>\n",
       "<table border=\"1\" class=\"dataframe\">\n",
       "  <thead>\n",
       "    <tr style=\"text-align: right;\">\n",
       "      <th></th>\n",
       "      <th>rating</th>\n",
       "      <th>review_count</th>\n",
       "      <th>isbn</th>\n",
       "      <th>booktype</th>\n",
       "      <th>author_url</th>\n",
       "      <th>year</th>\n",
       "      <th>genre_urls</th>\n",
       "      <th>dir</th>\n",
       "      <th>rating_count</th>\n",
       "      <th>name</th>\n",
       "    </tr>\n",
       "  </thead>\n",
       "  <tbody>\n",
       "    <tr>\n",
       "      <th>0</th>\n",
       "      <td>4.40</td>\n",
       "      <td>136455</td>\n",
       "      <td>0439023483</td>\n",
       "      <td>good_reads:book</td>\n",
       "      <td>https://www.goodreads.com/author/show/153394.S...</td>\n",
       "      <td>2008.0</td>\n",
       "      <td>/genres/young-adult|/genres/science-fiction|/g...</td>\n",
       "      <td>dir01/2767052-the-hunger-games.html</td>\n",
       "      <td>2958974</td>\n",
       "      <td>The Hunger Games (The Hunger Games, #1)</td>\n",
       "    </tr>\n",
       "    <tr>\n",
       "      <th>1</th>\n",
       "      <td>4.41</td>\n",
       "      <td>16648</td>\n",
       "      <td>0439358078</td>\n",
       "      <td>good_reads:book</td>\n",
       "      <td>https://www.goodreads.com/author/show/1077326....</td>\n",
       "      <td>2003.0</td>\n",
       "      <td>/genres/fantasy|/genres/young-adult|/genres/fi...</td>\n",
       "      <td>dir01/2.Harry_Potter_and_the_Order_of_the_Phoe...</td>\n",
       "      <td>1284478</td>\n",
       "      <td>Harry Potter and the Order of the Phoenix (Har...</td>\n",
       "    </tr>\n",
       "    <tr>\n",
       "      <th>2</th>\n",
       "      <td>3.56</td>\n",
       "      <td>85746</td>\n",
       "      <td>0316015849</td>\n",
       "      <td>good_reads:book</td>\n",
       "      <td>https://www.goodreads.com/author/show/941441.S...</td>\n",
       "      <td>2005.0</td>\n",
       "      <td>/genres/young-adult|/genres/fantasy|/genres/ro...</td>\n",
       "      <td>dir01/41865.Twilight.html</td>\n",
       "      <td>2579564</td>\n",
       "      <td>Twilight (Twilight, #1)</td>\n",
       "    </tr>\n",
       "    <tr>\n",
       "      <th>3</th>\n",
       "      <td>4.23</td>\n",
       "      <td>47906</td>\n",
       "      <td>0061120081</td>\n",
       "      <td>good_reads:book</td>\n",
       "      <td>https://www.goodreads.com/author/show/1825.Har...</td>\n",
       "      <td>1960.0</td>\n",
       "      <td>/genres/classics|/genres/fiction|/genres/histo...</td>\n",
       "      <td>dir01/2657.To_Kill_a_Mockingbird.html</td>\n",
       "      <td>2078123</td>\n",
       "      <td>To Kill a Mockingbird</td>\n",
       "    </tr>\n",
       "    <tr>\n",
       "      <th>4</th>\n",
       "      <td>4.23</td>\n",
       "      <td>34772</td>\n",
       "      <td>0679783261</td>\n",
       "      <td>good_reads:book</td>\n",
       "      <td>https://www.goodreads.com/author/show/1265.Jan...</td>\n",
       "      <td>1813.0</td>\n",
       "      <td>/genres/classics|/genres/fiction|/genres/roman...</td>\n",
       "      <td>dir01/1885.Pride_and_Prejudice.html</td>\n",
       "      <td>1388992</td>\n",
       "      <td>Pride and Prejudice</td>\n",
       "    </tr>\n",
       "  </tbody>\n",
       "</table>\n",
       "</div>"
      ],
      "text/plain": [
       "   rating review_count        isbn         booktype  \\\n",
       "0    4.40       136455  0439023483  good_reads:book   \n",
       "1    4.41        16648  0439358078  good_reads:book   \n",
       "2    3.56        85746  0316015849  good_reads:book   \n",
       "3    4.23        47906  0061120081  good_reads:book   \n",
       "4    4.23        34772  0679783261  good_reads:book   \n",
       "\n",
       "                                          author_url    year  \\\n",
       "0  https://www.goodreads.com/author/show/153394.S...  2008.0   \n",
       "1  https://www.goodreads.com/author/show/1077326....  2003.0   \n",
       "2  https://www.goodreads.com/author/show/941441.S...  2005.0   \n",
       "3  https://www.goodreads.com/author/show/1825.Har...  1960.0   \n",
       "4  https://www.goodreads.com/author/show/1265.Jan...  1813.0   \n",
       "\n",
       "                                          genre_urls  \\\n",
       "0  /genres/young-adult|/genres/science-fiction|/g...   \n",
       "1  /genres/fantasy|/genres/young-adult|/genres/fi...   \n",
       "2  /genres/young-adult|/genres/fantasy|/genres/ro...   \n",
       "3  /genres/classics|/genres/fiction|/genres/histo...   \n",
       "4  /genres/classics|/genres/fiction|/genres/roman...   \n",
       "\n",
       "                                                 dir rating_count  \\\n",
       "0                dir01/2767052-the-hunger-games.html      2958974   \n",
       "1  dir01/2.Harry_Potter_and_the_Order_of_the_Phoe...      1284478   \n",
       "2                          dir01/41865.Twilight.html      2579564   \n",
       "3              dir01/2657.To_Kill_a_Mockingbird.html      2078123   \n",
       "4                dir01/1885.Pride_and_Prejudice.html      1388992   \n",
       "\n",
       "                                                name  \n",
       "0            The Hunger Games (The Hunger Games, #1)  \n",
       "1  Harry Potter and the Order of the Phoenix (Har...  \n",
       "2                            Twilight (Twilight, #1)  \n",
       "3                              To Kill a Mockingbird  \n",
       "4                                Pride and Prejudice  "
      ]
     },
     "execution_count": 2,
     "metadata": {},
     "output_type": "execute_result"
    }
   ],
   "source": [
    "df=pd.read_csv(\"./data/goodreads.csv\", header=None,\n",
    "               names=[\"rating\", 'review_count', 'isbn', 'booktype','author_url', 'year', \n",
    "                      'genre_urls', 'dir','rating_count', 'name'],\n",
    ")\n",
    "df.head()"
   ]
  },
  {
   "cell_type": "code",
   "execution_count": 3,
   "metadata": {
    "collapsed": false
   },
   "outputs": [
    {
     "data": {
      "text/plain": [
       "(6000, 10)"
      ]
     },
     "execution_count": 3,
     "metadata": {},
     "output_type": "execute_result"
    }
   ],
   "source": [
    "df.shape"
   ]
  },
  {
   "cell_type": "markdown",
   "metadata": {},
   "source": [
    "df contains 6000 rows and 10 columns. Each row shows aggregate information for 1 book, including the average rating, total number of reviews, genre(s), and year published."
   ]
  },
  {
   "cell_type": "markdown",
   "metadata": {},
   "source": [
    "### 2. Cleaning and Prep"
   ]
  },
  {
   "cell_type": "markdown",
   "metadata": {},
   "source": [
    "#### a. Remove rows with null values \n",
    "After further exploration of **booktype**, I found that there were some rows containing None and null values. These should be removed from my analysis."
   ]
  },
  {
   "cell_type": "code",
   "execution_count": 3,
   "metadata": {
    "collapsed": false
   },
   "outputs": [
    {
     "data": {
      "text/html": [
       "<div>\n",
       "<table border=\"1\" class=\"dataframe\">\n",
       "  <thead>\n",
       "    <tr style=\"text-align: right;\">\n",
       "      <th></th>\n",
       "      <th>rating</th>\n",
       "      <th>review_count</th>\n",
       "      <th>isbn</th>\n",
       "      <th>booktype</th>\n",
       "      <th>author_url</th>\n",
       "      <th>year</th>\n",
       "      <th>genre_urls</th>\n",
       "      <th>dir</th>\n",
       "      <th>rating_count</th>\n",
       "      <th>name</th>\n",
       "    </tr>\n",
       "  </thead>\n",
       "  <tbody>\n",
       "    <tr>\n",
       "      <th>3643</th>\n",
       "      <td>NaN</td>\n",
       "      <td>None</td>\n",
       "      <td>None</td>\n",
       "      <td>None</td>\n",
       "      <td>None</td>\n",
       "      <td>NaN</td>\n",
       "      <td>NaN</td>\n",
       "      <td>dir37/9658936-harry-potter.html</td>\n",
       "      <td>None</td>\n",
       "      <td>None</td>\n",
       "    </tr>\n",
       "    <tr>\n",
       "      <th>5282</th>\n",
       "      <td>NaN</td>\n",
       "      <td>None</td>\n",
       "      <td>None</td>\n",
       "      <td>None</td>\n",
       "      <td>None</td>\n",
       "      <td>NaN</td>\n",
       "      <td>NaN</td>\n",
       "      <td>dir53/113138.The_Winner.html</td>\n",
       "      <td>None</td>\n",
       "      <td>None</td>\n",
       "    </tr>\n",
       "  </tbody>\n",
       "</table>\n",
       "</div>"
      ],
      "text/plain": [
       "      rating review_count  isbn booktype author_url  year genre_urls  \\\n",
       "3643     NaN         None  None     None       None   NaN        NaN   \n",
       "5282     NaN         None  None     None       None   NaN        NaN   \n",
       "\n",
       "                                  dir rating_count  name  \n",
       "3643  dir37/9658936-harry-potter.html         None  None  \n",
       "5282     dir53/113138.The_Winner.html         None  None  "
      ]
     },
     "execution_count": 3,
     "metadata": {},
     "output_type": "execute_result"
    }
   ],
   "source": [
    "df.loc[df[\"booktype\"] != \"good_reads:book\"]"
   ]
  },
  {
   "cell_type": "code",
   "execution_count": 3,
   "metadata": {
    "collapsed": false
   },
   "outputs": [],
   "source": [
    "# remove null rows\n",
    "df = df.loc[df[\"isbn\"] != \"None\"]"
   ]
  },
  {
   "cell_type": "code",
   "execution_count": 60,
   "metadata": {
    "collapsed": false
   },
   "outputs": [
    {
     "data": {
      "text/plain": [
       "(5998, 10)"
      ]
     },
     "execution_count": 60,
     "metadata": {},
     "output_type": "execute_result"
    }
   ],
   "source": [
    "df.shape"
   ]
  },
  {
   "cell_type": "markdown",
   "metadata": {},
   "source": [
    "The data frame now contains 5998 rows after removing the 2 null rows."
   ]
  },
  {
   "cell_type": "markdown",
   "metadata": {},
   "source": [
    "#### b. Remove rows with null years"
   ]
  },
  {
   "cell_type": "code",
   "execution_count": 4,
   "metadata": {
    "collapsed": false
   },
   "outputs": [
    {
     "data": {
      "text/plain": [
       "(5993, 10)"
      ]
     },
     "execution_count": 4,
     "metadata": {},
     "output_type": "execute_result"
    }
   ],
   "source": [
    "df = df[df.year.notnull()]\n",
    "df.shape"
   ]
  },
  {
   "cell_type": "markdown",
   "metadata": {},
   "source": [
    "Removing the null years removes an additional 5 rows."
   ]
  },
  {
   "cell_type": "markdown",
   "metadata": {},
   "source": [
    "#### c. Convert data types\n",
    "We can now convert year to an int and will also convert counts to int."
   ]
  },
  {
   "cell_type": "code",
   "execution_count": 5,
   "metadata": {
    "collapsed": false
   },
   "outputs": [],
   "source": [
    "df[\"year\"]=df[\"year\"].astype(int)\n",
    "df[\"review_count\"] = df[\"review_count\"].astype(int)\n",
    "df[\"rating_count\"] = df[\"rating_count\"].astype(int)"
   ]
  },
  {
   "cell_type": "markdown",
   "metadata": {},
   "source": [
    "#### d. Remove books with 0 reviews"
   ]
  },
  {
   "cell_type": "code",
   "execution_count": 6,
   "metadata": {
    "collapsed": false
   },
   "outputs": [],
   "source": [
    "df = df.loc[df[\"review_count\"] > 0]"
   ]
  },
  {
   "cell_type": "code",
   "execution_count": 8,
   "metadata": {
    "collapsed": false
   },
   "outputs": [
    {
     "data": {
      "text/plain": [
       "(5985, 10)"
      ]
     },
     "execution_count": 8,
     "metadata": {},
     "output_type": "execute_result"
    }
   ],
   "source": [
    "df.shape"
   ]
  },
  {
   "cell_type": "markdown",
   "metadata": {},
   "source": [
    "That removed another 8 rows."
   ]
  },
  {
   "cell_type": "markdown",
   "metadata": {},
   "source": [
    "### 3. Querying and Initial Exploration"
   ]
  },
  {
   "cell_type": "markdown",
   "metadata": {},
   "source": [
    "#### a. Explore rating distributions"
   ]
  },
  {
   "cell_type": "code",
   "execution_count": 47,
   "metadata": {
    "collapsed": false
   },
   "outputs": [
    {
     "data": {
      "image/png": "[encoded data removed]",
      "text/plain": [
       "<matplotlib.figure.Figure at 0x110d08ac8>"
      ]
     },
     "metadata": {},
     "output_type": "display_data"
    }
   ],
   "source": [
    "sns.boxplot(df.rating)\n",
    "plt.show()"
   ]
  },
  {
   "cell_type": "code",
   "execution_count": 61,
   "metadata": {
    "collapsed": false
   },
   "outputs": [
    {
     "data": {
      "text/plain": [
       "4.041191311612362"
      ]
     },
     "execution_count": 61,
     "metadata": {},
     "output_type": "execute_result"
    }
   ],
   "source": [
    "df.rating.mean()"
   ]
  },
  {
   "cell_type": "code",
   "execution_count": 62,
   "metadata": {
    "collapsed": false
   },
   "outputs": [
    {
     "data": {
      "image/png": "[encoded data removed]",
      "text/plain": [
       "<matplotlib.figure.Figure at 0x1110f7d68>"
      ]
     },
     "metadata": {},
     "output_type": "display_data"
    }
   ],
   "source": [
    "with sns.axes_style(\"whitegrid\"):\n",
    "    df.rating.hist(bins=20, alpha=0.8);\n",
    "    sns.despine(left=True, bottom=True, right=True)\n",
    "    plt.axvline(df.rating.mean(), color='r')\n",
    "    plt.show()"
   ]
  },
  {
   "cell_type": "markdown",
   "metadata": {},
   "source": [
    "Most of the ratings are just above 4 — the mean is 4.04. <br>What is the percentage of ratings above/below 4. How many are less than 3? How many are a perfect 5?"
   ]
  },
  {
   "cell_type": "code",
   "execution_count": 66,
   "metadata": {
    "collapsed": false
   },
   "outputs": [
    {
     "data": {
      "text/plain": [
       "0.56274018379281532"
      ]
     },
     "execution_count": 66,
     "metadata": {},
     "output_type": "execute_result"
    }
   ],
   "source": [
    "np.sum(df.rating > 4) / df.shape[0]"
   ]
  },
  {
   "cell_type": "code",
   "execution_count": 39,
   "metadata": {
    "collapsed": false
   },
   "outputs": [
    {
     "data": {
      "text/plain": [
       "4"
      ]
     },
     "execution_count": 39,
     "metadata": {},
     "output_type": "execute_result"
    }
   ],
   "source": [
    "np.sum(df.rating < 3)"
   ]
  },
  {
   "cell_type": "code",
   "execution_count": 40,
   "metadata": {
    "collapsed": false
   },
   "outputs": [
    {
     "data": {
      "text/plain": [
       "3"
      ]
     },
     "execution_count": 40,
     "metadata": {},
     "output_type": "execute_result"
    }
   ],
   "source": [
    "np.sum(df.rating == 5)"
   ]
  },
  {
   "cell_type": "markdown",
   "metadata": {},
   "source": [
    "#### b. Books with the highest/lowest ratings"
   ]
  },
  {
   "cell_type": "markdown",
   "metadata": {},
   "source": [
    "Lowest"
   ]
  },
  {
   "cell_type": "code",
   "execution_count": 22,
   "metadata": {
    "collapsed": false
   },
   "outputs": [
    {
     "data": {
      "text/plain": [
       "rating                                                          2\n",
       "review_count                                                  368\n",
       "isbn                                                   0983650322\n",
       "booktype                                          good_reads:book\n",
       "author_url      https://www.goodreads.com/author/show/9414.Vic...\n",
       "year                                                         2011\n",
       "genre_urls      /genres/young-adult|/genres/science-fiction|/g...\n",
       "dir                            dir38/12393909-revealing-eden.html\n",
       "rating_count                                                  688\n",
       "name                         Revealing Eden (Save the Pearls, #1)\n",
       "Name: 3738, dtype: object"
      ]
     },
     "execution_count": 22,
     "metadata": {},
     "output_type": "execute_result"
    }
   ],
   "source": [
    "df.loc[df['rating'].idxmin()]"
   ]
  },
  {
   "cell_type": "markdown",
   "metadata": {},
   "source": [
    "Highest"
   ]
  },
  {
   "cell_type": "code",
   "execution_count": 23,
   "metadata": {
    "collapsed": false
   },
   "outputs": [
    {
     "data": {
      "text/plain": [
       "rating                                                          5\n",
       "review_count                                                   28\n",
       "isbn                                                          NaN\n",
       "booktype                                          good_reads:book\n",
       "author_url      https://www.goodreads.com/author/show/6467808....\n",
       "year                                                         2014\n",
       "genre_urls                       /genres/poetry|/genres/childrens\n",
       "dir                dir18/22204746-an-elephant-is-on-my-house.html\n",
       "rating_count                                                   64\n",
       "name                                   An Elephant Is On My House\n",
       "Name: 1718, dtype: object"
      ]
     },
     "execution_count": 23,
     "metadata": {},
     "output_type": "execute_result"
    }
   ],
   "source": [
    "df.loc[df['rating'].idxmax()]"
   ]
  },
  {
   "cell_type": "markdown",
   "metadata": {},
   "source": [
    "Only 4 books in the sample have average ratings under 3. The lowest rated book is *Revealing Eden*. Also in the bottom 4, no surprise, is Hitler's *Mein Kampf*."
   ]
  },
  {
   "cell_type": "code",
   "execution_count": 24,
   "metadata": {
    "collapsed": false
   },
   "outputs": [
    {
     "data": {
      "text/html": [
       "<div>\n",
       "<table border=\"1\" class=\"dataframe\">\n",
       "  <thead>\n",
       "    <tr style=\"text-align: right;\">\n",
       "      <th></th>\n",
       "      <th>rating</th>\n",
       "      <th>review_count</th>\n",
       "      <th>isbn</th>\n",
       "      <th>booktype</th>\n",
       "      <th>author_url</th>\n",
       "      <th>year</th>\n",
       "      <th>genre_urls</th>\n",
       "      <th>dir</th>\n",
       "      <th>rating_count</th>\n",
       "      <th>name</th>\n",
       "    </tr>\n",
       "  </thead>\n",
       "  <tbody>\n",
       "    <tr>\n",
       "      <th>2609</th>\n",
       "      <td>2.90</td>\n",
       "      <td>8</td>\n",
       "      <td>NaN</td>\n",
       "      <td>good_reads:book</td>\n",
       "      <td>https://www.goodreads.com/author/show/7707820....</td>\n",
       "      <td>2013</td>\n",
       "      <td>/genres/romance|/genres/realistic-fiction|/gen...</td>\n",
       "      <td>dir27/19546932-how-to-be-a-perfect-girl.html</td>\n",
       "      <td>31</td>\n",
       "      <td>How To Be A Perfect Girl</td>\n",
       "    </tr>\n",
       "    <tr>\n",
       "      <th>3738</th>\n",
       "      <td>2.00</td>\n",
       "      <td>368</td>\n",
       "      <td>0983650322</td>\n",
       "      <td>good_reads:book</td>\n",
       "      <td>https://www.goodreads.com/author/show/9414.Vic...</td>\n",
       "      <td>2011</td>\n",
       "      <td>/genres/young-adult|/genres/science-fiction|/g...</td>\n",
       "      <td>dir38/12393909-revealing-eden.html</td>\n",
       "      <td>688</td>\n",
       "      <td>Revealing Eden (Save the Pearls, #1)</td>\n",
       "    </tr>\n",
       "    <tr>\n",
       "      <th>5844</th>\n",
       "      <td>2.97</td>\n",
       "      <td>1399</td>\n",
       "      <td>0395083621</td>\n",
       "      <td>good_reads:book</td>\n",
       "      <td>https://www.goodreads.com/author/show/30691.Ad...</td>\n",
       "      <td>1925</td>\n",
       "      <td>/genres/history|/genres/non-fiction|/genres/bi...</td>\n",
       "      <td>dir59/54270.Mein_Kampf.html</td>\n",
       "      <td>12417</td>\n",
       "      <td>Mein Kampf</td>\n",
       "    </tr>\n",
       "    <tr>\n",
       "      <th>5979</th>\n",
       "      <td>2.77</td>\n",
       "      <td>800</td>\n",
       "      <td>0060988649</td>\n",
       "      <td>good_reads:book</td>\n",
       "      <td>https://www.goodreads.com/author/show/7025.Gre...</td>\n",
       "      <td>2001</td>\n",
       "      <td>/genres/fantasy|/genres/fiction|/genres/myster...</td>\n",
       "      <td>dir60/24929.Lost.html</td>\n",
       "      <td>11128</td>\n",
       "      <td>Lost</td>\n",
       "    </tr>\n",
       "  </tbody>\n",
       "</table>\n",
       "</div>"
      ],
      "text/plain": [
       "      rating  review_count        isbn         booktype  \\\n",
       "2609    2.90             8         NaN  good_reads:book   \n",
       "3738    2.00           368  0983650322  good_reads:book   \n",
       "5844    2.97          1399  0395083621  good_reads:book   \n",
       "5979    2.77           800  0060988649  good_reads:book   \n",
       "\n",
       "                                             author_url  year  \\\n",
       "2609  https://www.goodreads.com/author/show/7707820....  2013   \n",
       "3738  https://www.goodreads.com/author/show/9414.Vic...  2011   \n",
       "5844  https://www.goodreads.com/author/show/30691.Ad...  1925   \n",
       "5979  https://www.goodreads.com/author/show/7025.Gre...  2001   \n",
       "\n",
       "                                             genre_urls  \\\n",
       "2609  /genres/romance|/genres/realistic-fiction|/gen...   \n",
       "3738  /genres/young-adult|/genres/science-fiction|/g...   \n",
       "5844  /genres/history|/genres/non-fiction|/genres/bi...   \n",
       "5979  /genres/fantasy|/genres/fiction|/genres/myster...   \n",
       "\n",
       "                                               dir  rating_count  \\\n",
       "2609  dir27/19546932-how-to-be-a-perfect-girl.html            31   \n",
       "3738            dir38/12393909-revealing-eden.html           688   \n",
       "5844                   dir59/54270.Mein_Kampf.html         12417   \n",
       "5979                         dir60/24929.Lost.html         11128   \n",
       "\n",
       "                                      name  \n",
       "2609              How To Be A Perfect Girl  \n",
       "3738  Revealing Eden (Save the Pearls, #1)  \n",
       "5844                            Mein Kampf  \n",
       "5979                                  Lost  "
      ]
     },
     "execution_count": 24,
     "metadata": {},
     "output_type": "execute_result"
    }
   ],
   "source": [
    "df.query(\"rating < 3\")"
   ]
  },
  {
   "cell_type": "markdown",
   "metadata": {},
   "source": [
    "3 books have a perfect rating of 5. These have very low review counts."
   ]
  },
  {
   "cell_type": "code",
   "execution_count": 25,
   "metadata": {
    "collapsed": false
   },
   "outputs": [
    {
     "data": {
      "text/html": [
       "<div>\n",
       "<table border=\"1\" class=\"dataframe\">\n",
       "  <thead>\n",
       "    <tr style=\"text-align: right;\">\n",
       "      <th></th>\n",
       "      <th>rating</th>\n",
       "      <th>review_count</th>\n",
       "      <th>isbn</th>\n",
       "      <th>booktype</th>\n",
       "      <th>author_url</th>\n",
       "      <th>year</th>\n",
       "      <th>genre_urls</th>\n",
       "      <th>dir</th>\n",
       "      <th>rating_count</th>\n",
       "      <th>name</th>\n",
       "    </tr>\n",
       "  </thead>\n",
       "  <tbody>\n",
       "    <tr>\n",
       "      <th>1718</th>\n",
       "      <td>5.0</td>\n",
       "      <td>28</td>\n",
       "      <td>NaN</td>\n",
       "      <td>good_reads:book</td>\n",
       "      <td>https://www.goodreads.com/author/show/6467808....</td>\n",
       "      <td>2014</td>\n",
       "      <td>/genres/poetry|/genres/childrens</td>\n",
       "      <td>dir18/22204746-an-elephant-is-on-my-house.html</td>\n",
       "      <td>64</td>\n",
       "      <td>An Elephant Is On My House</td>\n",
       "    </tr>\n",
       "    <tr>\n",
       "      <th>2145</th>\n",
       "      <td>5.0</td>\n",
       "      <td>3</td>\n",
       "      <td>1300589469</td>\n",
       "      <td>good_reads:book</td>\n",
       "      <td>https://www.goodreads.com/author/show/6906561....</td>\n",
       "      <td>2012</td>\n",
       "      <td>NaN</td>\n",
       "      <td>dir22/17287259-a-book-about-absolutely-nothing...</td>\n",
       "      <td>63</td>\n",
       "      <td>A Book About Absolutely Nothing.</td>\n",
       "    </tr>\n",
       "    <tr>\n",
       "      <th>5564</th>\n",
       "      <td>5.0</td>\n",
       "      <td>9</td>\n",
       "      <td>NaN</td>\n",
       "      <td>good_reads:book</td>\n",
       "      <td>https://www.goodreads.com/author/show/7738947....</td>\n",
       "      <td>2014</td>\n",
       "      <td>/genres/romance|/genres/new-adult</td>\n",
       "      <td>dir56/21902777-untainted.html</td>\n",
       "      <td>14</td>\n",
       "      <td>Untainted (Photographer Trilogy, #3)</td>\n",
       "    </tr>\n",
       "  </tbody>\n",
       "</table>\n",
       "</div>"
      ],
      "text/plain": [
       "      rating  review_count        isbn         booktype  \\\n",
       "1718     5.0            28         NaN  good_reads:book   \n",
       "2145     5.0             3  1300589469  good_reads:book   \n",
       "5564     5.0             9         NaN  good_reads:book   \n",
       "\n",
       "                                             author_url  year  \\\n",
       "1718  https://www.goodreads.com/author/show/6467808....  2014   \n",
       "2145  https://www.goodreads.com/author/show/6906561....  2012   \n",
       "5564  https://www.goodreads.com/author/show/7738947....  2014   \n",
       "\n",
       "                             genre_urls  \\\n",
       "1718   /genres/poetry|/genres/childrens   \n",
       "2145                                NaN   \n",
       "5564  /genres/romance|/genres/new-adult   \n",
       "\n",
       "                                                    dir  rating_count  \\\n",
       "1718     dir18/22204746-an-elephant-is-on-my-house.html            64   \n",
       "2145  dir22/17287259-a-book-about-absolutely-nothing...            63   \n",
       "5564                      dir56/21902777-untainted.html            14   \n",
       "\n",
       "                                      name  \n",
       "1718            An Elephant Is On My House  \n",
       "2145      A Book About Absolutely Nothing.  \n",
       "5564  Untainted (Photographer Trilogy, #3)  "
      ]
     },
     "execution_count": 25,
     "metadata": {},
     "output_type": "execute_result"
    }
   ],
   "source": [
    "df.query(\"rating == 5\")"
   ]
  },
  {
   "cell_type": "markdown",
   "metadata": {},
   "source": [
    "There is only 1 book with a rating > 4.75 and more than 1000 reviews - *Words of Radiance*."
   ]
  },
  {
   "cell_type": "code",
   "execution_count": 26,
   "metadata": {
    "collapsed": false
   },
   "outputs": [
    {
     "data": {
      "text/html": [
       "<div>\n",
       "<table border=\"1\" class=\"dataframe\">\n",
       "  <thead>\n",
       "    <tr style=\"text-align: right;\">\n",
       "      <th></th>\n",
       "      <th>rating</th>\n",
       "      <th>review_count</th>\n",
       "      <th>isbn</th>\n",
       "      <th>booktype</th>\n",
       "      <th>author_url</th>\n",
       "      <th>year</th>\n",
       "      <th>genre_urls</th>\n",
       "      <th>dir</th>\n",
       "      <th>rating_count</th>\n",
       "      <th>name</th>\n",
       "    </tr>\n",
       "  </thead>\n",
       "  <tbody>\n",
       "    <tr>\n",
       "      <th>1595</th>\n",
       "      <td>4.76</td>\n",
       "      <td>3361</td>\n",
       "      <td>0765326361</td>\n",
       "      <td>good_reads:book</td>\n",
       "      <td>https://www.goodreads.com/author/show/38550.Br...</td>\n",
       "      <td>2014</td>\n",
       "      <td>/genres/fantasy|/genres/fantasy|/genres/epic-f...</td>\n",
       "      <td>dir16/17332218-words-of-radiance.html</td>\n",
       "      <td>32304</td>\n",
       "      <td>Words of Radiance (The Stormlight Archive, #2)</td>\n",
       "    </tr>\n",
       "  </tbody>\n",
       "</table>\n",
       "</div>"
      ],
      "text/plain": [
       "      rating  review_count        isbn         booktype  \\\n",
       "1595    4.76          3361  0765326361  good_reads:book   \n",
       "\n",
       "                                             author_url  year  \\\n",
       "1595  https://www.goodreads.com/author/show/38550.Br...  2014   \n",
       "\n",
       "                                             genre_urls  \\\n",
       "1595  /genres/fantasy|/genres/fantasy|/genres/epic-f...   \n",
       "\n",
       "                                        dir  rating_count  \\\n",
       "1595  dir16/17332218-words-of-radiance.html         32304   \n",
       "\n",
       "                                                name  \n",
       "1595  Words of Radiance (The Stormlight Archive, #2)  "
      ]
     },
     "execution_count": 26,
     "metadata": {},
     "output_type": "execute_result"
    }
   ],
   "source": [
    "df[(df.rating > 4.75) & (df.review_count > 1000)]"
   ]
  },
  {
   "cell_type": "markdown",
   "metadata": {},
   "source": [
    "#### c. Oldest book"
   ]
  },
  {
   "cell_type": "code",
   "execution_count": 27,
   "metadata": {
    "collapsed": false
   },
   "outputs": [
    {
     "data": {
      "text/plain": [
       "rating                                                        3.6\n",
       "review_count                                                 1644\n",
       "isbn                                                   0141026286\n",
       "booktype                                          good_reads:book\n",
       "author_url      https://www.goodreads.com/author/show/5158478....\n",
       "year                                                        -1500\n",
       "genre_urls      /genres/religion|/genres/literature|/genres/an...\n",
       "dir                        dir14/19351.The_Epic_of_Gilgamesh.html\n",
       "rating_count                                                42026\n",
       "name                                        The Epic of Gilgamesh\n",
       "Name: 1398, dtype: object"
      ]
     },
     "execution_count": 27,
     "metadata": {},
     "output_type": "execute_result"
    }
   ],
   "source": [
    "df.loc[df['year'].idxmin()]"
   ]
  },
  {
   "cell_type": "markdown",
   "metadata": {},
   "source": [
    "The book *The Epic of Gilgamesh* is the oldest book in the sample, from 1644."
   ]
  },
  {
   "cell_type": "markdown",
   "metadata": {},
   "source": [
    "#### d. Most reviews"
   ]
  },
  {
   "cell_type": "code",
   "execution_count": 41,
   "metadata": {
    "collapsed": false
   },
   "outputs": [
    {
     "data": {
      "image/png": "[encoded data removed]",
      "text/plain": [
       "<matplotlib.figure.Figure at 0x10b1b0748>"
      ]
     },
     "metadata": {},
     "output_type": "display_data"
    }
   ],
   "source": [
    "sns.boxplot(df.review_count)\n",
    "plt.show()"
   ]
  },
  {
   "cell_type": "code",
   "execution_count": 44,
   "metadata": {
    "collapsed": false
   },
   "outputs": [
    {
     "data": {
      "text/plain": [
       "2377.5049289891394"
      ]
     },
     "execution_count": 44,
     "metadata": {},
     "output_type": "execute_result"
    }
   ],
   "source": [
    "df.review_count.mean()"
   ]
  },
  {
   "cell_type": "markdown",
   "metadata": {},
   "source": [
    "Most books have around 2000 reviews. Only a few outliers have more than 100,000."
   ]
  },
  {
   "cell_type": "code",
   "execution_count": 30,
   "metadata": {
    "collapsed": false
   },
   "outputs": [
    {
     "data": {
      "text/plain": [
       "rating                                                        4.4\n",
       "review_count                                               136455\n",
       "isbn                                                   0439023483\n",
       "booktype                                          good_reads:book\n",
       "author_url      https://www.goodreads.com/author/show/153394.S...\n",
       "year                                                         2008\n",
       "genre_urls      /genres/young-adult|/genres/science-fiction|/g...\n",
       "dir                           dir01/2767052-the-hunger-games.html\n",
       "rating_count                                              2958974\n",
       "name                      The Hunger Games (The Hunger Games, #1)\n",
       "Name: 0, dtype: object"
      ]
     },
     "execution_count": 30,
     "metadata": {},
     "output_type": "execute_result"
    }
   ],
   "source": [
    "df.loc[df['review_count'].idxmax()]"
   ]
  },
  {
   "cell_type": "markdown",
   "metadata": {},
   "source": [
    "*The Hunger Games (#1)* is the most reviewed book in the sample."
   ]
  },
  {
   "cell_type": "code",
   "execution_count": 35,
   "metadata": {
    "collapsed": false
   },
   "outputs": [
    {
     "data": {
      "text/html": [
       "<div>\n",
       "<table border=\"1\" class=\"dataframe\">\n",
       "  <thead>\n",
       "    <tr style=\"text-align: right;\">\n",
       "      <th></th>\n",
       "      <th>rating</th>\n",
       "      <th>review_count</th>\n",
       "      <th>isbn</th>\n",
       "      <th>booktype</th>\n",
       "      <th>author_url</th>\n",
       "      <th>year</th>\n",
       "      <th>genre_urls</th>\n",
       "      <th>dir</th>\n",
       "      <th>rating_count</th>\n",
       "      <th>name</th>\n",
       "    </tr>\n",
       "  </thead>\n",
       "  <tbody>\n",
       "    <tr>\n",
       "      <th>0</th>\n",
       "      <td>4.40</td>\n",
       "      <td>136455</td>\n",
       "      <td>0439023483</td>\n",
       "      <td>good_reads:book</td>\n",
       "      <td>https://www.goodreads.com/author/show/153394.S...</td>\n",
       "      <td>2008</td>\n",
       "      <td>/genres/young-adult|/genres/science-fiction|/g...</td>\n",
       "      <td>dir01/2767052-the-hunger-games.html</td>\n",
       "      <td>2958974</td>\n",
       "      <td>The Hunger Games (The Hunger Games, #1)</td>\n",
       "    </tr>\n",
       "    <tr>\n",
       "      <th>2</th>\n",
       "      <td>3.56</td>\n",
       "      <td>85746</td>\n",
       "      <td>0316015849</td>\n",
       "      <td>good_reads:book</td>\n",
       "      <td>https://www.goodreads.com/author/show/941441.S...</td>\n",
       "      <td>2005</td>\n",
       "      <td>/genres/young-adult|/genres/fantasy|/genres/ro...</td>\n",
       "      <td>dir01/41865.Twilight.html</td>\n",
       "      <td>2579564</td>\n",
       "      <td>Twilight (Twilight, #1)</td>\n",
       "    </tr>\n",
       "    <tr>\n",
       "      <th>26</th>\n",
       "      <td>4.43</td>\n",
       "      <td>112279</td>\n",
       "      <td>0525478817</td>\n",
       "      <td>good_reads:book</td>\n",
       "      <td>https://www.goodreads.com/author/show/1406384....</td>\n",
       "      <td>2012</td>\n",
       "      <td>/genres/young-adult|/genres/book-club|/genres/...</td>\n",
       "      <td>dir01/11870085-the-fault-in-our-stars.html</td>\n",
       "      <td>1150626</td>\n",
       "      <td>The Fault in Our Stars</td>\n",
       "    </tr>\n",
       "    <tr>\n",
       "      <th>43</th>\n",
       "      <td>4.34</td>\n",
       "      <td>82098</td>\n",
       "      <td>0062024035</td>\n",
       "      <td>good_reads:book</td>\n",
       "      <td>https://www.goodreads.com/author/show/4039811....</td>\n",
       "      <td>2011</td>\n",
       "      <td>/genres/young-adult|/genres/science-fiction|/g...</td>\n",
       "      <td>dir01/13335037-divergent.html</td>\n",
       "      <td>1127983</td>\n",
       "      <td>Divergent (Divergent, #1)</td>\n",
       "    </tr>\n",
       "    <tr>\n",
       "      <th>571</th>\n",
       "      <td>3.94</td>\n",
       "      <td>87076</td>\n",
       "      <td>0307588378</td>\n",
       "      <td>good_reads:book</td>\n",
       "      <td>https://www.goodreads.com/author/show/2383.Gil...</td>\n",
       "      <td>2012</td>\n",
       "      <td>/genres/fiction|/genres/mystery|/genres/book-c...</td>\n",
       "      <td>dir06/19288043-gone-girl.html</td>\n",
       "      <td>682110</td>\n",
       "      <td>Gone Girl</td>\n",
       "    </tr>\n",
       "    <tr>\n",
       "      <th>1841</th>\n",
       "      <td>4.03</td>\n",
       "      <td>83643</td>\n",
       "      <td>0439023513</td>\n",
       "      <td>good_reads:book</td>\n",
       "      <td>https://www.goodreads.com/author/show/153394.S...</td>\n",
       "      <td>2010</td>\n",
       "      <td>/genres/young-adult|/genres/science-fiction|/g...</td>\n",
       "      <td>dir19/7260188-mockingjay.html</td>\n",
       "      <td>1316704</td>\n",
       "      <td>Mockingjay (The Hunger Games, #3)</td>\n",
       "    </tr>\n",
       "  </tbody>\n",
       "</table>\n",
       "</div>"
      ],
      "text/plain": [
       "      rating  review_count        isbn         booktype  \\\n",
       "0       4.40        136455  0439023483  good_reads:book   \n",
       "2       3.56         85746  0316015849  good_reads:book   \n",
       "26      4.43        112279  0525478817  good_reads:book   \n",
       "43      4.34         82098  0062024035  good_reads:book   \n",
       "571     3.94         87076  0307588378  good_reads:book   \n",
       "1841    4.03         83643  0439023513  good_reads:book   \n",
       "\n",
       "                                             author_url  year  \\\n",
       "0     https://www.goodreads.com/author/show/153394.S...  2008   \n",
       "2     https://www.goodreads.com/author/show/941441.S...  2005   \n",
       "26    https://www.goodreads.com/author/show/1406384....  2012   \n",
       "43    https://www.goodreads.com/author/show/4039811....  2011   \n",
       "571   https://www.goodreads.com/author/show/2383.Gil...  2012   \n",
       "1841  https://www.goodreads.com/author/show/153394.S...  2010   \n",
       "\n",
       "                                             genre_urls  \\\n",
       "0     /genres/young-adult|/genres/science-fiction|/g...   \n",
       "2     /genres/young-adult|/genres/fantasy|/genres/ro...   \n",
       "26    /genres/young-adult|/genres/book-club|/genres/...   \n",
       "43    /genres/young-adult|/genres/science-fiction|/g...   \n",
       "571   /genres/fiction|/genres/mystery|/genres/book-c...   \n",
       "1841  /genres/young-adult|/genres/science-fiction|/g...   \n",
       "\n",
       "                                             dir  rating_count  \\\n",
       "0            dir01/2767052-the-hunger-games.html       2958974   \n",
       "2                      dir01/41865.Twilight.html       2579564   \n",
       "26    dir01/11870085-the-fault-in-our-stars.html       1150626   \n",
       "43                 dir01/13335037-divergent.html       1127983   \n",
       "571                dir06/19288043-gone-girl.html        682110   \n",
       "1841               dir19/7260188-mockingjay.html       1316704   \n",
       "\n",
       "                                         name  \n",
       "0     The Hunger Games (The Hunger Games, #1)  \n",
       "2                     Twilight (Twilight, #1)  \n",
       "26                     The Fault in Our Stars  \n",
       "43                  Divergent (Divergent, #1)  \n",
       "571                                 Gone Girl  \n",
       "1841        Mockingjay (The Hunger Games, #3)  "
      ]
     },
     "execution_count": 35,
     "metadata": {},
     "output_type": "execute_result"
    }
   ],
   "source": [
    "df[df.review_count > 80000]"
   ]
  },
  {
   "cell_type": "markdown",
   "metadata": {},
   "source": [
    "There are 6 books that have more than 80,000 reviews. *The Fault in Our Stars* has the 2nd most reviews and released later than the most reviewed."
   ]
  },
  {
   "cell_type": "markdown",
   "metadata": {},
   "source": [
    "### 4. Visualization"
   ]
  },
  {
   "cell_type": "code",
   "execution_count": 28,
   "metadata": {
    "collapsed": false
   },
   "outputs": [
    {
     "data": {
      "image/png": "[encoded data removed]",
      "text/plain": [
       "<matplotlib.figure.Figure at 0x11107bf98>"
      ]
     },
     "metadata": {},
     "output_type": "display_data"
    }
   ],
   "source": [
    "meanrat=df.rating.mean()\n",
    "with sns.axes_style(\"whitegrid\"):\n",
    "    df.rating.hist(bins=10, alpha=0.8);\n",
    "    sns.despine(left=True, bottom=True, right=True)\n",
    "    plt.axvline(meanrat, 0, 0.75, color='r', label='Mean')\n",
    "    plt.xlabel(\"average rating of book\")\n",
    "    plt.ylabel(\"counts\")\n",
    "    plt.title(\"Ratings Histogram\")\n",
    "    plt.legend()\n",
    "    plt.show()"
   ]
  },
  {
   "cell_type": "code",
   "execution_count": 34,
   "metadata": {
    "collapsed": false
   },
   "outputs": [
    {
     "data": {
      "image/png": "[encoded data removed]",
      "text/plain": [
       "<matplotlib.figure.Figure at 0x116148438>"
      ]
     },
     "metadata": {},
     "output_type": "display_data"
    }
   ],
   "source": [
    "df.review_count.hist(bins=np.arange(0, 40000, 400))\n",
    "plt.show()"
   ]
  },
  {
   "cell_type": "markdown",
   "metadata": {},
   "source": [
    "Rescale x-axis to be logarithmic to more easily see structure"
   ]
  },
  {
   "cell_type": "code",
   "execution_count": 93,
   "metadata": {
    "collapsed": false
   },
   "outputs": [
    {
     "data": {
      "image/png": "[encoded data removed]",
      "text/plain": [
       "<matplotlib.figure.Figure at 0x113c760b8>"
      ]
     },
     "metadata": {},
     "output_type": "display_data"
    }
   ],
   "source": [
    "df.review_count.hist(bins=100, alpha=0.4)\n",
    "plt.xscale(\"log\");\n",
    "plt.show()"
   ]
  },
  {
   "cell_type": "markdown",
   "metadata": {},
   "source": [
    "Another way to show"
   ]
  },
  {
   "cell_type": "code",
   "execution_count": 100,
   "metadata": {
    "collapsed": false
   },
   "outputs": [
    {
     "data": {
      "image/png": "[encoded data removed]",
      "text/plain": [
       "<matplotlib.figure.Figure at 0x113afb668>"
      ]
     },
     "metadata": {},
     "output_type": "display_data"
    }
   ],
   "source": [
    "plt.hist(df.rating_count.values, bins=100, alpha=0.4)\n",
    "plt.show()"
   ]
  },
  {
   "cell_type": "markdown",
   "metadata": {},
   "source": [
    "Scatterplot in matplotlib of rating against year. By setting the alpha transparency low we can how the density of highly rated books on goodreads has changed."
   ]
  },
  {
   "cell_type": "code",
   "execution_count": 98,
   "metadata": {
    "collapsed": false
   },
   "outputs": [
    {
     "data": {
      "image/png": "[encoded data removed]",
      "text/plain": [
       "<matplotlib.figure.Figure at 0x10ce467f0>"
      ]
     },
     "metadata": {},
     "output_type": "display_data"
    }
   ],
   "source": [
    "plt.scatter(df.year, df.rating, alpha=.08)\n",
    "plt.xlim([1900,2015])\n",
    "plt.xlabel(\"Year\")\n",
    "plt.ylabel(\"Rating\")\n",
    "plt.show()"
   ]
  },
  {
   "cell_type": "markdown",
   "metadata": {},
   "source": [
    "### Numpy Arrays"
   ]
  },
  {
   "cell_type": "code",
   "execution_count": 101,
   "metadata": {
    "collapsed": true
   },
   "outputs": [],
   "source": [
    "alist = [1,2,3,4,5]"
   ]
  },
  {
   "cell_type": "code",
   "execution_count": 102,
   "metadata": {
    "collapsed": false
   },
   "outputs": [
    {
     "data": {
      "text/plain": [
       "[1, 2, 3, 4, 5, 1, 2, 3, 4, 5]"
      ]
     },
     "execution_count": 102,
     "metadata": {},
     "output_type": "execute_result"
    }
   ],
   "source": [
    "alist + alist"
   ]
  },
  {
   "cell_type": "code",
   "execution_count": 103,
   "metadata": {
    "collapsed": false,
    "scrolled": true
   },
   "outputs": [
    {
     "data": {
      "text/plain": [
       "array([ 2,  4,  6,  8, 10])"
      ]
     },
     "execution_count": 103,
     "metadata": {},
     "output_type": "execute_result"
    }
   ],
   "source": [
    "np.array(alist) + np.array(alist)"
   ]
  },
  {
   "cell_type": "code",
   "execution_count": 105,
   "metadata": {
    "collapsed": false
   },
   "outputs": [
    {
     "data": {
      "text/plain": [
       "array([ 1,  4,  9, 16, 25])"
      ]
     },
     "execution_count": 105,
     "metadata": {},
     "output_type": "execute_result"
    }
   ],
   "source": [
    "np.array(alist)**2"
   ]
  },
  {
   "cell_type": "code",
   "execution_count": 107,
   "metadata": {
    "collapsed": false
   },
   "outputs": [
    {
     "name": "stdout",
     "output_type": "stream",
     "text": [
      "[ 2  4  6  8 10]\n"
     ]
    }
   ],
   "source": [
    "a=np.array([1,2,3,4,5])\n",
    "b=np.array([1,2,3,4,5])\n",
    "print(a+b)"
   ]
  },
  {
   "cell_type": "code",
   "execution_count": 108,
   "metadata": {
    "collapsed": false
   },
   "outputs": [
    {
     "data": {
      "text/plain": [
       "array([2, 3, 4, 5, 6])"
      ]
     },
     "execution_count": 108,
     "metadata": {},
     "output_type": "execute_result"
    }
   ],
   "source": [
    "a+1"
   ]
  },
  {
   "cell_type": "code",
   "execution_count": 110,
   "metadata": {
    "collapsed": false
   },
   "outputs": [
    {
     "name": "stdout",
     "output_type": "stream",
     "text": [
      "[2 3 4 5 6]\n"
     ]
    }
   ],
   "source": [
    "print(a+1)"
   ]
  },
  {
   "cell_type": "markdown",
   "metadata": {},
   "source": [
    "### All Together - Hamlet"
   ]
  },
  {
   "cell_type": "markdown",
   "metadata": {},
   "source": [
    "Access Hamlet word by word - there are roughly 32,000 words in Hamlet"
   ]
  },
  {
   "cell_type": "code",
   "execution_count": 2,
   "metadata": {
    "collapsed": false
   },
   "outputs": [
    {
     "name": "stdout",
     "output_type": "stream",
     "text": [
      "31659\n"
     ]
    }
   ],
   "source": [
    "with open(\"./data/hamlet.txt\") as hamletfile:\n",
    "    hamlettext=hamletfile.read()\n",
    "    hamlettokens=hamlettext.split()\n",
    "    print(len(hamlettokens))"
   ]
  },
  {
   "cell_type": "code",
   "execution_count": 6,
   "metadata": {
    "collapsed": false
   },
   "outputs": [
    {
     "data": {
      "text/plain": [
       "95"
      ]
     },
     "execution_count": 6,
     "metadata": {},
     "output_type": "execute_result"
    }
   ],
   "source": [
    "hamletlctokens=[word.lower() for word in hamlettokens]\n",
    "hamletlctokens.count(\"thou\")"
   ]
  },
  {
   "cell_type": "markdown",
   "metadata": {
    "collapsed": true
   },
   "source": [
    "Find a unique set of words using python's 'set' data structure"
   ]
  },
  {
   "cell_type": "code",
   "execution_count": 9,
   "metadata": {
    "collapsed": true
   },
   "outputs": [],
   "source": [
    "uniquelctokens=set(hamletlctokens)"
   ]
  },
  {
   "cell_type": "code",
   "execution_count": 23,
   "metadata": {
    "collapsed": false
   },
   "outputs": [],
   "source": [
    "tokendict={}\n",
    "for ut in uniquelctokens:\n",
    "    tokendict[ut]=hamletlctokens.count(ut)"
   ]
  },
  {
   "cell_type": "code",
   "execution_count": 49,
   "metadata": {
    "collapsed": false
   },
   "outputs": [
    {
     "data": {
      "text/plain": [
       "1136"
      ]
     },
     "execution_count": 49,
     "metadata": {},
     "output_type": "execute_result"
    }
   ],
   "source": [
    "tokendict['the']"
   ]
  },
  {
   "cell_type": "markdown",
   "metadata": {},
   "source": [
    "Find the 15 most used words"
   ]
  },
  {
   "cell_type": "code",
   "execution_count": 51,
   "metadata": {
    "collapsed": false
   },
   "outputs": [
    {
     "data": {
      "text/plain": [
       "[('the', 1136),\n",
       " ('and', 943),\n",
       " ('to', 720),\n",
       " ('of', 667),\n",
       " ('a', 527),\n",
       " ('my', 512),\n",
       " ('i', 510),\n",
       " ('in', 420),\n",
       " ('you', 412),\n",
       " ('ham.', 358),\n",
       " ('that', 337),\n",
       " ('it', 324),\n",
       " ('is', 320),\n",
       " ('his', 295),\n",
       " ('not', 270)]"
      ]
     },
     "execution_count": 51,
     "metadata": {},
     "output_type": "execute_result"
    }
   ],
   "source": [
    "freqwords = sorted(tokendict.items(), key=lambda item: -item[1])[:15]\n",
    "freqwords"
   ]
  },
  {
   "cell_type": "code",
   "execution_count": 64,
   "metadata": {
    "collapsed": false
   },
   "outputs": [
    {
     "data": {
      "image/png": "[encoded data removed]",
      "text/plain": [
       "<matplotlib.figure.Figure at 0x118ff1b38>"
      ]
     },
     "metadata": {},
     "output_type": "display_data"
    }
   ],
   "source": [
    "pos = np.arange(len(freqwords))\n",
    "plt.bar(pos, [e[1] for e in freqwords]);\n",
    "plt.xticks(pos, [e[0] for e in freqwords]);\n",
    "plt.show()"
   ]
  }
 ],
 "metadata": {
  "kernelspec": {
   "display_name": "Python 3",
   "language": "python",
   "name": "python3"
  },
  "language_info": {
   "codemirror_mode": {
    "name": "ipython",
    "version": 3
   },
   "file_extension": ".py",
   "mimetype": "text/x-python",
   "name": "python",
   "nbconvert_exporter": "python",
   "pygments_lexer": "ipython3",
   "version": "3.6.0"
  }
 },
 "nbformat": 4,
 "nbformat_minor": 2
}

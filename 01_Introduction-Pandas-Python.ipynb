{
 "cells": [
  {
   "cell_type": "markdown",
   "metadata": {},
   "source": [
    "# Introduction to Pandas and Python"
   ]
  },
  {
   "cell_type": "markdown",
   "metadata": {},
   "source": [
    "[Python, Matplotlib, Pandas Cheatsheets](https://drive.google.com/drive/u/1/folders/0ByIrJAE4KMTtaGhRcXkxNHhmY2M)"
   ]
  },
  {
   "cell_type": "markdown",
   "metadata": {},
   "source": [
    "----"
   ]
  },
  {
   "cell_type": "code",
   "execution_count": 2,
   "metadata": {
    "collapsed": true
   },
   "outputs": [],
   "source": [
    "import numpy as np # imports a fast numerical programming library\n",
    "import scipy as sp #imports stats functions, amongst other things\n",
    "import matplotlib as mpl # this actually imports matplotlib\n",
    "import matplotlib.cm as cm #allows us easy access to colormaps\n",
    "import matplotlib.pyplot as plt #sets up plotting under plt\n",
    "import pandas as pd #lets us handle data as dataframes"
   ]
  },
  {
   "cell_type": "markdown",
   "metadata": {},
   "source": [
    "### Read Data (scraped from Goodreads)"
   ]
  },
  {
   "cell_type": "code",
   "execution_count": 3,
   "metadata": {
    "collapsed": false
   },
   "outputs": [
    {
     "data": {
      "text/html": [
       "<div>\n",
       "<table border=\"1\" class=\"dataframe\">\n",
       "  <thead>\n",
       "    <tr style=\"text-align: right;\">\n",
       "      <th></th>\n",
       "      <th>rating</th>\n",
       "      <th>review_count</th>\n",
       "      <th>isbn</th>\n",
       "      <th>booktype</th>\n",
       "      <th>author_url</th>\n",
       "      <th>year</th>\n",
       "      <th>genre_urls</th>\n",
       "      <th>dir</th>\n",
       "      <th>rating_count</th>\n",
       "      <th>name</th>\n",
       "    </tr>\n",
       "  </thead>\n",
       "  <tbody>\n",
       "    <tr>\n",
       "      <th>0</th>\n",
       "      <td>4.40</td>\n",
       "      <td>136455</td>\n",
       "      <td>0439023483</td>\n",
       "      <td>good_reads:book</td>\n",
       "      <td>https://www.goodreads.com/author/show/153394.S...</td>\n",
       "      <td>2008.0</td>\n",
       "      <td>/genres/young-adult|/genres/science-fiction|/g...</td>\n",
       "      <td>dir01/2767052-the-hunger-games.html</td>\n",
       "      <td>2958974</td>\n",
       "      <td>The Hunger Games (The Hunger Games, #1)</td>\n",
       "    </tr>\n",
       "    <tr>\n",
       "      <th>1</th>\n",
       "      <td>4.41</td>\n",
       "      <td>16648</td>\n",
       "      <td>0439358078</td>\n",
       "      <td>good_reads:book</td>\n",
       "      <td>https://www.goodreads.com/author/show/1077326....</td>\n",
       "      <td>2003.0</td>\n",
       "      <td>/genres/fantasy|/genres/young-adult|/genres/fi...</td>\n",
       "      <td>dir01/2.Harry_Potter_and_the_Order_of_the_Phoe...</td>\n",
       "      <td>1284478</td>\n",
       "      <td>Harry Potter and the Order of the Phoenix (Har...</td>\n",
       "    </tr>\n",
       "    <tr>\n",
       "      <th>2</th>\n",
       "      <td>3.56</td>\n",
       "      <td>85746</td>\n",
       "      <td>0316015849</td>\n",
       "      <td>good_reads:book</td>\n",
       "      <td>https://www.goodreads.com/author/show/941441.S...</td>\n",
       "      <td>2005.0</td>\n",
       "      <td>/genres/young-adult|/genres/fantasy|/genres/ro...</td>\n",
       "      <td>dir01/41865.Twilight.html</td>\n",
       "      <td>2579564</td>\n",
       "      <td>Twilight (Twilight, #1)</td>\n",
       "    </tr>\n",
       "    <tr>\n",
       "      <th>3</th>\n",
       "      <td>4.23</td>\n",
       "      <td>47906</td>\n",
       "      <td>0061120081</td>\n",
       "      <td>good_reads:book</td>\n",
       "      <td>https://www.goodreads.com/author/show/1825.Har...</td>\n",
       "      <td>1960.0</td>\n",
       "      <td>/genres/classics|/genres/fiction|/genres/histo...</td>\n",
       "      <td>dir01/2657.To_Kill_a_Mockingbird.html</td>\n",
       "      <td>2078123</td>\n",
       "      <td>To Kill a Mockingbird</td>\n",
       "    </tr>\n",
       "    <tr>\n",
       "      <th>4</th>\n",
       "      <td>4.23</td>\n",
       "      <td>34772</td>\n",
       "      <td>0679783261</td>\n",
       "      <td>good_reads:book</td>\n",
       "      <td>https://www.goodreads.com/author/show/1265.Jan...</td>\n",
       "      <td>1813.0</td>\n",
       "      <td>/genres/classics|/genres/fiction|/genres/roman...</td>\n",
       "      <td>dir01/1885.Pride_and_Prejudice.html</td>\n",
       "      <td>1388992</td>\n",
       "      <td>Pride and Prejudice</td>\n",
       "    </tr>\n",
       "  </tbody>\n",
       "</table>\n",
       "</div>"
      ],
      "text/plain": [
       "   rating review_count        isbn         booktype  \\\n",
       "0    4.40       136455  0439023483  good_reads:book   \n",
       "1    4.41        16648  0439358078  good_reads:book   \n",
       "2    3.56        85746  0316015849  good_reads:book   \n",
       "3    4.23        47906  0061120081  good_reads:book   \n",
       "4    4.23        34772  0679783261  good_reads:book   \n",
       "\n",
       "                                          author_url    year  \\\n",
       "0  https://www.goodreads.com/author/show/153394.S...  2008.0   \n",
       "1  https://www.goodreads.com/author/show/1077326....  2003.0   \n",
       "2  https://www.goodreads.com/author/show/941441.S...  2005.0   \n",
       "3  https://www.goodreads.com/author/show/1825.Har...  1960.0   \n",
       "4  https://www.goodreads.com/author/show/1265.Jan...  1813.0   \n",
       "\n",
       "                                          genre_urls  \\\n",
       "0  /genres/young-adult|/genres/science-fiction|/g...   \n",
       "1  /genres/fantasy|/genres/young-adult|/genres/fi...   \n",
       "2  /genres/young-adult|/genres/fantasy|/genres/ro...   \n",
       "3  /genres/classics|/genres/fiction|/genres/histo...   \n",
       "4  /genres/classics|/genres/fiction|/genres/roman...   \n",
       "\n",
       "                                                 dir rating_count  \\\n",
       "0                dir01/2767052-the-hunger-games.html      2958974   \n",
       "1  dir01/2.Harry_Potter_and_the_Order_of_the_Phoe...      1284478   \n",
       "2                          dir01/41865.Twilight.html      2579564   \n",
       "3              dir01/2657.To_Kill_a_Mockingbird.html      2078123   \n",
       "4                dir01/1885.Pride_and_Prejudice.html      1388992   \n",
       "\n",
       "                                                name  \n",
       "0            The Hunger Games (The Hunger Games, #1)  \n",
       "1  Harry Potter and the Order of the Phoenix (Har...  \n",
       "2                            Twilight (Twilight, #1)  \n",
       "3                              To Kill a Mockingbird  \n",
       "4                                Pride and Prejudice  "
      ]
     },
     "execution_count": 3,
     "metadata": {},
     "output_type": "execute_result"
    }
   ],
   "source": [
    "df=pd.read_csv(\"./data/goodreads.csv\", header=None,\n",
    "               names=[\"rating\", 'review_count', 'isbn', 'booktype','author_url', 'year', 'genre_urls', 'dir','rating_count', 'name'],\n",
    ")\n",
    "df.head() # shows first 5 rows of the dataframe"
   ]
  },
  {
   "cell_type": "markdown",
   "metadata": {},
   "source": [
    "### Dataframe Basics"
   ]
  },
  {
   "cell_type": "code",
   "execution_count": 4,
   "metadata": {
    "collapsed": false
   },
   "outputs": [
    {
     "data": {
      "text/plain": [
       "rating          float64\n",
       "review_count     object\n",
       "isbn             object\n",
       "booktype         object\n",
       "author_url       object\n",
       "year            float64\n",
       "genre_urls       object\n",
       "dir              object\n",
       "rating_count     object\n",
       "name             object\n",
       "dtype: object"
      ]
     },
     "execution_count": 4,
     "metadata": {},
     "output_type": "execute_result"
    }
   ],
   "source": [
    "df.dtypes"
   ]
  },
  {
   "cell_type": "code",
   "execution_count": 5,
   "metadata": {
    "collapsed": false
   },
   "outputs": [
    {
     "data": {
      "text/plain": [
       "(6000, 10)"
      ]
     },
     "execution_count": 5,
     "metadata": {},
     "output_type": "execute_result"
    }
   ],
   "source": [
    "df.shape"
   ]
  },
  {
   "cell_type": "markdown",
   "metadata": {},
   "source": [
    "6000 rows and 10 columns"
   ]
  },
  {
   "cell_type": "code",
   "execution_count": 6,
   "metadata": {
    "collapsed": false
   },
   "outputs": [
    {
     "data": {
      "text/plain": [
       "(6000, 10)"
      ]
     },
     "execution_count": 6,
     "metadata": {},
     "output_type": "execute_result"
    }
   ],
   "source": [
    "df.shape[0], df.shape[1]"
   ]
  },
  {
   "cell_type": "code",
   "execution_count": 7,
   "metadata": {
    "collapsed": false
   },
   "outputs": [
    {
     "data": {
      "text/plain": [
       "Index(['rating', 'review_count', 'isbn', 'booktype', 'author_url', 'year',\n",
       "       'genre_urls', 'dir', 'rating_count', 'name'],\n",
       "      dtype='object')"
      ]
     },
     "execution_count": 7,
     "metadata": {},
     "output_type": "execute_result"
    }
   ],
   "source": [
    "df.columns"
   ]
  },
  {
   "cell_type": "markdown",
   "metadata": {},
   "source": [
    "These are the column names"
   ]
  },
  {
   "cell_type": "markdown",
   "metadata": {},
   "source": [
    "### Querying"
   ]
  },
  {
   "cell_type": "code",
   "execution_count": 8,
   "metadata": {
    "collapsed": false
   },
   "outputs": [
    {
     "data": {
      "text/plain": [
       "0        True\n",
       "1        True\n",
       "2        True\n",
       "3        True\n",
       "4        True\n",
       "5        True\n",
       "6        True\n",
       "7        True\n",
       "8        True\n",
       "9        True\n",
       "10       True\n",
       "11       True\n",
       "12       True\n",
       "13       True\n",
       "14       True\n",
       "15       True\n",
       "16       True\n",
       "17       True\n",
       "18       True\n",
       "19       True\n",
       "20       True\n",
       "21       True\n",
       "22       True\n",
       "23       True\n",
       "24       True\n",
       "25       True\n",
       "26       True\n",
       "27       True\n",
       "28       True\n",
       "29       True\n",
       "        ...  \n",
       "5970     True\n",
       "5971     True\n",
       "5972     True\n",
       "5973     True\n",
       "5974     True\n",
       "5975     True\n",
       "5976     True\n",
       "5977     True\n",
       "5978     True\n",
       "5979    False\n",
       "5980     True\n",
       "5981     True\n",
       "5982     True\n",
       "5983     True\n",
       "5984     True\n",
       "5985     True\n",
       "5986     True\n",
       "5987     True\n",
       "5988     True\n",
       "5989     True\n",
       "5990     True\n",
       "5991     True\n",
       "5992     True\n",
       "5993     True\n",
       "5994     True\n",
       "5995     True\n",
       "5996     True\n",
       "5997     True\n",
       "5998     True\n",
       "5999     True\n",
       "Name: rating, dtype: bool"
      ]
     },
     "execution_count": 8,
     "metadata": {},
     "output_type": "execute_result"
    }
   ],
   "source": [
    "df.rating > 3"
   ]
  },
  {
   "cell_type": "code",
   "execution_count": 9,
   "metadata": {
    "collapsed": false
   },
   "outputs": [
    {
     "data": {
      "text/plain": [
       "4"
      ]
     },
     "execution_count": 9,
     "metadata": {},
     "output_type": "execute_result"
    }
   ],
   "source": [
    "np.sum(df.rating < 3)"
   ]
  },
  {
   "cell_type": "markdown",
   "metadata": {},
   "source": [
    "Find the percentage of ratings above/below 3"
   ]
  },
  {
   "cell_type": "code",
   "execution_count": 10,
   "metadata": {
    "collapsed": false
   },
   "outputs": [
    {
     "data": {
      "text/plain": [
       "0.999"
      ]
     },
     "execution_count": 10,
     "metadata": {},
     "output_type": "execute_result"
    }
   ],
   "source": [
    "np.sum(df.rating > 3) / df.shape[0]"
   ]
  },
  {
   "cell_type": "code",
   "execution_count": 11,
   "metadata": {
    "collapsed": false
   },
   "outputs": [
    {
     "data": {
      "text/plain": [
       "0.00066666666666666664"
      ]
     },
     "execution_count": 11,
     "metadata": {},
     "output_type": "execute_result"
    }
   ],
   "source": [
    "np.sum(df.rating < 3) / df.shape[0]"
   ]
  },
  {
   "cell_type": "markdown",
   "metadata": {},
   "source": [
    "### Filtering"
   ]
  },
  {
   "cell_type": "markdown",
   "metadata": {},
   "source": [
    "Get a Filtered Dataframe"
   ]
  },
  {
   "cell_type": "code",
   "execution_count": 12,
   "metadata": {
    "collapsed": false
   },
   "outputs": [
    {
     "data": {
      "text/html": [
       "<div>\n",
       "<table border=\"1\" class=\"dataframe\">\n",
       "  <thead>\n",
       "    <tr style=\"text-align: right;\">\n",
       "      <th></th>\n",
       "      <th>rating</th>\n",
       "      <th>review_count</th>\n",
       "      <th>isbn</th>\n",
       "      <th>booktype</th>\n",
       "      <th>author_url</th>\n",
       "      <th>year</th>\n",
       "      <th>genre_urls</th>\n",
       "      <th>dir</th>\n",
       "      <th>rating_count</th>\n",
       "      <th>name</th>\n",
       "    </tr>\n",
       "  </thead>\n",
       "  <tbody>\n",
       "    <tr>\n",
       "      <th>1718</th>\n",
       "      <td>5.00</td>\n",
       "      <td>28</td>\n",
       "      <td>NaN</td>\n",
       "      <td>good_reads:book</td>\n",
       "      <td>https://www.goodreads.com/author/show/6467808....</td>\n",
       "      <td>2014.0</td>\n",
       "      <td>/genres/poetry|/genres/childrens</td>\n",
       "      <td>dir18/22204746-an-elephant-is-on-my-house.html</td>\n",
       "      <td>64</td>\n",
       "      <td>An Elephant Is On My House</td>\n",
       "    </tr>\n",
       "    <tr>\n",
       "      <th>2034</th>\n",
       "      <td>4.92</td>\n",
       "      <td>2</td>\n",
       "      <td>147930414X</td>\n",
       "      <td>good_reads:book</td>\n",
       "      <td>https://www.goodreads.com/author/show/6467808....</td>\n",
       "      <td>2012.0</td>\n",
       "      <td>NaN</td>\n",
       "      <td>dir21/20363899-happy-halloween.html</td>\n",
       "      <td>49</td>\n",
       "      <td>Happy Halloween</td>\n",
       "    </tr>\n",
       "    <tr>\n",
       "      <th>2145</th>\n",
       "      <td>5.00</td>\n",
       "      <td>3</td>\n",
       "      <td>1300589469</td>\n",
       "      <td>good_reads:book</td>\n",
       "      <td>https://www.goodreads.com/author/show/6906561....</td>\n",
       "      <td>2012.0</td>\n",
       "      <td>NaN</td>\n",
       "      <td>dir22/17287259-a-book-about-absolutely-nothing...</td>\n",
       "      <td>63</td>\n",
       "      <td>A Book About Absolutely Nothing.</td>\n",
       "    </tr>\n",
       "    <tr>\n",
       "      <th>2865</th>\n",
       "      <td>4.93</td>\n",
       "      <td>0</td>\n",
       "      <td>9789898541</td>\n",
       "      <td>good_reads:book</td>\n",
       "      <td>https://www.goodreads.com/author/show/7458878....</td>\n",
       "      <td>2012.0</td>\n",
       "      <td>NaN</td>\n",
       "      <td>dir29/19065420-la-os-fortes-e-decis-es-dif-cei...</td>\n",
       "      <td>14</td>\n",
       "      <td>LaÃ§os fortes e decisÃµes difÃ­ceis</td>\n",
       "    </tr>\n",
       "    <tr>\n",
       "      <th>2868</th>\n",
       "      <td>4.94</td>\n",
       "      <td>6</td>\n",
       "      <td>NaN</td>\n",
       "      <td>good_reads:book</td>\n",
       "      <td>https://www.goodreads.com/author/show/8127793....</td>\n",
       "      <td>2014.0</td>\n",
       "      <td>NaN</td>\n",
       "      <td>dir29/21864814-nik-nassa-the-mark-of-destiny.html</td>\n",
       "      <td>16</td>\n",
       "      <td>Nik Nassa &amp; the Mark of Destiny</td>\n",
       "    </tr>\n",
       "    <tr>\n",
       "      <th>2903</th>\n",
       "      <td>5.00</td>\n",
       "      <td>0</td>\n",
       "      <td>0983002282</td>\n",
       "      <td>good_reads:book</td>\n",
       "      <td>https://www.goodreads.com/author/show/6589034....</td>\n",
       "      <td>2012.0</td>\n",
       "      <td>NaN</td>\n",
       "      <td>dir30/17608096-obscured-darkness.html</td>\n",
       "      <td>8</td>\n",
       "      <td>Obscured Darkness (Family Secrets #2)</td>\n",
       "    </tr>\n",
       "    <tr>\n",
       "      <th>2909</th>\n",
       "      <td>5.00</td>\n",
       "      <td>0</td>\n",
       "      <td>0983002215</td>\n",
       "      <td>good_reads:book</td>\n",
       "      <td>https://www.goodreads.com/author/show/6589034....</td>\n",
       "      <td>2011.0</td>\n",
       "      <td>NaN</td>\n",
       "      <td>dir30/16200303-family-secrets.html</td>\n",
       "      <td>9</td>\n",
       "      <td>Family Secrets</td>\n",
       "    </tr>\n",
       "    <tr>\n",
       "      <th>2920</th>\n",
       "      <td>4.93</td>\n",
       "      <td>6</td>\n",
       "      <td>1453634819</td>\n",
       "      <td>good_reads:book</td>\n",
       "      <td>https://www.goodreads.com/author/show/4808225....</td>\n",
       "      <td>2010.0</td>\n",
       "      <td>NaN</td>\n",
       "      <td>dir30/11187861-the-years-distilled.html</td>\n",
       "      <td>28</td>\n",
       "      <td>The Years Distilled</td>\n",
       "    </tr>\n",
       "    <tr>\n",
       "      <th>3254</th>\n",
       "      <td>4.92</td>\n",
       "      <td>5</td>\n",
       "      <td>NaN</td>\n",
       "      <td>good_reads:book</td>\n",
       "      <td>https://www.goodreads.com/author/show/5227478....</td>\n",
       "      <td>2014.0</td>\n",
       "      <td>/genres/young-adult</td>\n",
       "      <td>dir33/13495579-blackout.html</td>\n",
       "      <td>25</td>\n",
       "      <td>Blackout (Talisman of El #2)</td>\n",
       "    </tr>\n",
       "    <tr>\n",
       "      <th>3712</th>\n",
       "      <td>4.93</td>\n",
       "      <td>7</td>\n",
       "      <td>1781843457</td>\n",
       "      <td>good_reads:book</td>\n",
       "      <td>https://www.goodreads.com/author/show/5014793....</td>\n",
       "      <td>2013.0</td>\n",
       "      <td>/genres/fantasy|/genres/romance|/genres/suspen...</td>\n",
       "      <td>dir38/18080358-blade-heart.html</td>\n",
       "      <td>15</td>\n",
       "      <td>Blade Heart</td>\n",
       "    </tr>\n",
       "    <tr>\n",
       "      <th>4473</th>\n",
       "      <td>5.00</td>\n",
       "      <td>0</td>\n",
       "      <td>NaN</td>\n",
       "      <td>good_reads:book</td>\n",
       "      <td>https://www.goodreads.com/author/show/6896621....</td>\n",
       "      <td>2012.0</td>\n",
       "      <td>NaN</td>\n",
       "      <td>dir45/17259227-patience-s-love.html</td>\n",
       "      <td>7</td>\n",
       "      <td>Patience's Love</td>\n",
       "    </tr>\n",
       "    <tr>\n",
       "      <th>5564</th>\n",
       "      <td>5.00</td>\n",
       "      <td>9</td>\n",
       "      <td>NaN</td>\n",
       "      <td>good_reads:book</td>\n",
       "      <td>https://www.goodreads.com/author/show/7738947....</td>\n",
       "      <td>2014.0</td>\n",
       "      <td>/genres/romance|/genres/new-adult</td>\n",
       "      <td>dir56/21902777-untainted.html</td>\n",
       "      <td>14</td>\n",
       "      <td>Untainted (Photographer Trilogy, #3)</td>\n",
       "    </tr>\n",
       "    <tr>\n",
       "      <th>5692</th>\n",
       "      <td>5.00</td>\n",
       "      <td>0</td>\n",
       "      <td>NaN</td>\n",
       "      <td>good_reads:book</td>\n",
       "      <td>https://www.goodreads.com/author/show/5989528....</td>\n",
       "      <td>2012.0</td>\n",
       "      <td>NaN</td>\n",
       "      <td>dir57/14288412-abstraction-in-theory---laws-of...</td>\n",
       "      <td>6</td>\n",
       "      <td>Abstraction In Theory - Laws Of Physical Trans...</td>\n",
       "    </tr>\n",
       "  </tbody>\n",
       "</table>\n",
       "</div>"
      ],
      "text/plain": [
       "      rating review_count        isbn         booktype  \\\n",
       "1718    5.00           28         NaN  good_reads:book   \n",
       "2034    4.92            2  147930414X  good_reads:book   \n",
       "2145    5.00            3  1300589469  good_reads:book   \n",
       "2865    4.93            0  9789898541  good_reads:book   \n",
       "2868    4.94            6         NaN  good_reads:book   \n",
       "2903    5.00            0  0983002282  good_reads:book   \n",
       "2909    5.00            0  0983002215  good_reads:book   \n",
       "2920    4.93            6  1453634819  good_reads:book   \n",
       "3254    4.92            5         NaN  good_reads:book   \n",
       "3712    4.93            7  1781843457  good_reads:book   \n",
       "4473    5.00            0         NaN  good_reads:book   \n",
       "5564    5.00            9         NaN  good_reads:book   \n",
       "5692    5.00            0         NaN  good_reads:book   \n",
       "\n",
       "                                             author_url    year  \\\n",
       "1718  https://www.goodreads.com/author/show/6467808....  2014.0   \n",
       "2034  https://www.goodreads.com/author/show/6467808....  2012.0   \n",
       "2145  https://www.goodreads.com/author/show/6906561....  2012.0   \n",
       "2865  https://www.goodreads.com/author/show/7458878....  2012.0   \n",
       "2868  https://www.goodreads.com/author/show/8127793....  2014.0   \n",
       "2903  https://www.goodreads.com/author/show/6589034....  2012.0   \n",
       "2909  https://www.goodreads.com/author/show/6589034....  2011.0   \n",
       "2920  https://www.goodreads.com/author/show/4808225....  2010.0   \n",
       "3254  https://www.goodreads.com/author/show/5227478....  2014.0   \n",
       "3712  https://www.goodreads.com/author/show/5014793....  2013.0   \n",
       "4473  https://www.goodreads.com/author/show/6896621....  2012.0   \n",
       "5564  https://www.goodreads.com/author/show/7738947....  2014.0   \n",
       "5692  https://www.goodreads.com/author/show/5989528....  2012.0   \n",
       "\n",
       "                                             genre_urls  \\\n",
       "1718                   /genres/poetry|/genres/childrens   \n",
       "2034                                                NaN   \n",
       "2145                                                NaN   \n",
       "2865                                                NaN   \n",
       "2868                                                NaN   \n",
       "2903                                                NaN   \n",
       "2909                                                NaN   \n",
       "2920                                                NaN   \n",
       "3254                                /genres/young-adult   \n",
       "3712  /genres/fantasy|/genres/romance|/genres/suspen...   \n",
       "4473                                                NaN   \n",
       "5564                  /genres/romance|/genres/new-adult   \n",
       "5692                                                NaN   \n",
       "\n",
       "                                                    dir rating_count  \\\n",
       "1718     dir18/22204746-an-elephant-is-on-my-house.html           64   \n",
       "2034                dir21/20363899-happy-halloween.html           49   \n",
       "2145  dir22/17287259-a-book-about-absolutely-nothing...           63   \n",
       "2865  dir29/19065420-la-os-fortes-e-decis-es-dif-cei...           14   \n",
       "2868  dir29/21864814-nik-nassa-the-mark-of-destiny.html           16   \n",
       "2903              dir30/17608096-obscured-darkness.html            8   \n",
       "2909                 dir30/16200303-family-secrets.html            9   \n",
       "2920            dir30/11187861-the-years-distilled.html           28   \n",
       "3254                       dir33/13495579-blackout.html           25   \n",
       "3712                    dir38/18080358-blade-heart.html           15   \n",
       "4473                dir45/17259227-patience-s-love.html            7   \n",
       "5564                      dir56/21902777-untainted.html           14   \n",
       "5692  dir57/14288412-abstraction-in-theory---laws-of...            6   \n",
       "\n",
       "                                                   name  \n",
       "1718                         An Elephant Is On My House  \n",
       "2034                                    Happy Halloween  \n",
       "2145                   A Book About Absolutely Nothing.  \n",
       "2865                LaÃ§os fortes e decisÃµes difÃ­ceis  \n",
       "2868                    Nik Nassa & the Mark of Destiny  \n",
       "2903              Obscured Darkness (Family Secrets #2)  \n",
       "2909                                     Family Secrets  \n",
       "2920                                The Years Distilled  \n",
       "3254                       Blackout (Talisman of El #2)  \n",
       "3712                                        Blade Heart  \n",
       "4473                                    Patience's Love  \n",
       "5564               Untainted (Photographer Trilogy, #3)  \n",
       "5692  Abstraction In Theory - Laws Of Physical Trans...  "
      ]
     },
     "execution_count": 12,
     "metadata": {},
     "output_type": "execute_result"
    }
   ],
   "source": [
    "df.query(\"rating > 4.9\")"
   ]
  },
  {
   "cell_type": "code",
   "execution_count": 13,
   "metadata": {
    "collapsed": false
   },
   "outputs": [
    {
     "data": {
      "text/html": [
       "<div>\n",
       "<table border=\"1\" class=\"dataframe\">\n",
       "  <thead>\n",
       "    <tr style=\"text-align: right;\">\n",
       "      <th></th>\n",
       "      <th>rating</th>\n",
       "      <th>review_count</th>\n",
       "      <th>isbn</th>\n",
       "      <th>booktype</th>\n",
       "      <th>author_url</th>\n",
       "      <th>year</th>\n",
       "      <th>genre_urls</th>\n",
       "      <th>dir</th>\n",
       "      <th>rating_count</th>\n",
       "      <th>name</th>\n",
       "    </tr>\n",
       "  </thead>\n",
       "  <tbody>\n",
       "    <tr>\n",
       "      <th>1718</th>\n",
       "      <td>5.00</td>\n",
       "      <td>28</td>\n",
       "      <td>NaN</td>\n",
       "      <td>good_reads:book</td>\n",
       "      <td>https://www.goodreads.com/author/show/6467808....</td>\n",
       "      <td>2014.0</td>\n",
       "      <td>/genres/poetry|/genres/childrens</td>\n",
       "      <td>dir18/22204746-an-elephant-is-on-my-house.html</td>\n",
       "      <td>64</td>\n",
       "      <td>An Elephant Is On My House</td>\n",
       "    </tr>\n",
       "    <tr>\n",
       "      <th>2868</th>\n",
       "      <td>4.94</td>\n",
       "      <td>6</td>\n",
       "      <td>NaN</td>\n",
       "      <td>good_reads:book</td>\n",
       "      <td>https://www.goodreads.com/author/show/8127793....</td>\n",
       "      <td>2014.0</td>\n",
       "      <td>NaN</td>\n",
       "      <td>dir29/21864814-nik-nassa-the-mark-of-destiny.html</td>\n",
       "      <td>16</td>\n",
       "      <td>Nik Nassa &amp; the Mark of Destiny</td>\n",
       "    </tr>\n",
       "    <tr>\n",
       "      <th>3254</th>\n",
       "      <td>4.92</td>\n",
       "      <td>5</td>\n",
       "      <td>NaN</td>\n",
       "      <td>good_reads:book</td>\n",
       "      <td>https://www.goodreads.com/author/show/5227478....</td>\n",
       "      <td>2014.0</td>\n",
       "      <td>/genres/young-adult</td>\n",
       "      <td>dir33/13495579-blackout.html</td>\n",
       "      <td>25</td>\n",
       "      <td>Blackout (Talisman of El #2)</td>\n",
       "    </tr>\n",
       "    <tr>\n",
       "      <th>5564</th>\n",
       "      <td>5.00</td>\n",
       "      <td>9</td>\n",
       "      <td>NaN</td>\n",
       "      <td>good_reads:book</td>\n",
       "      <td>https://www.goodreads.com/author/show/7738947....</td>\n",
       "      <td>2014.0</td>\n",
       "      <td>/genres/romance|/genres/new-adult</td>\n",
       "      <td>dir56/21902777-untainted.html</td>\n",
       "      <td>14</td>\n",
       "      <td>Untainted (Photographer Trilogy, #3)</td>\n",
       "    </tr>\n",
       "  </tbody>\n",
       "</table>\n",
       "</div>"
      ],
      "text/plain": [
       "      rating review_count isbn         booktype  \\\n",
       "1718    5.00           28  NaN  good_reads:book   \n",
       "2868    4.94            6  NaN  good_reads:book   \n",
       "3254    4.92            5  NaN  good_reads:book   \n",
       "5564    5.00            9  NaN  good_reads:book   \n",
       "\n",
       "                                             author_url    year  \\\n",
       "1718  https://www.goodreads.com/author/show/6467808....  2014.0   \n",
       "2868  https://www.goodreads.com/author/show/8127793....  2014.0   \n",
       "3254  https://www.goodreads.com/author/show/5227478....  2014.0   \n",
       "5564  https://www.goodreads.com/author/show/7738947....  2014.0   \n",
       "\n",
       "                             genre_urls  \\\n",
       "1718   /genres/poetry|/genres/childrens   \n",
       "2868                                NaN   \n",
       "3254                /genres/young-adult   \n",
       "5564  /genres/romance|/genres/new-adult   \n",
       "\n",
       "                                                    dir rating_count  \\\n",
       "1718     dir18/22204746-an-elephant-is-on-my-house.html           64   \n",
       "2868  dir29/21864814-nik-nassa-the-mark-of-destiny.html           16   \n",
       "3254                       dir33/13495579-blackout.html           25   \n",
       "5564                      dir56/21902777-untainted.html           14   \n",
       "\n",
       "                                      name  \n",
       "1718            An Elephant Is On My House  \n",
       "2868       Nik Nassa & the Mark of Destiny  \n",
       "3254          Blackout (Talisman of El #2)  \n",
       "5564  Untainted (Photographer Trilogy, #3)  "
      ]
     },
     "execution_count": 13,
     "metadata": {},
     "output_type": "execute_result"
    }
   ],
   "source": [
    "df[(df.rating > 4.9) & (df.year > 2013)]"
   ]
  },
  {
   "cell_type": "markdown",
   "metadata": {},
   "source": [
    "### Cleaning"
   ]
  },
  {
   "cell_type": "markdown",
   "metadata": {},
   "source": [
    "We get an error when trying to convert year to an int. It's trying to convert some python datatype: None into an int. This usually means data was missing. Was it?"
   ]
  },
  {
   "cell_type": "code",
   "execution_count": 14,
   "metadata": {
    "collapsed": false
   },
   "outputs": [
    {
     "data": {
      "text/html": [
       "<div>\n",
       "<table border=\"1\" class=\"dataframe\">\n",
       "  <thead>\n",
       "    <tr style=\"text-align: right;\">\n",
       "      <th></th>\n",
       "      <th>rating</th>\n",
       "      <th>review_count</th>\n",
       "      <th>isbn</th>\n",
       "      <th>booktype</th>\n",
       "      <th>author_url</th>\n",
       "      <th>year</th>\n",
       "      <th>genre_urls</th>\n",
       "      <th>dir</th>\n",
       "      <th>rating_count</th>\n",
       "      <th>name</th>\n",
       "    </tr>\n",
       "  </thead>\n",
       "  <tbody>\n",
       "    <tr>\n",
       "      <th>2442</th>\n",
       "      <td>4.23</td>\n",
       "      <td>526</td>\n",
       "      <td>NaN</td>\n",
       "      <td>good_reads:book</td>\n",
       "      <td>https://www.goodreads.com/author/show/623606.A...</td>\n",
       "      <td>NaN</td>\n",
       "      <td>/genres/religion|/genres/islam|/genres/non-fic...</td>\n",
       "      <td>dir25/1301625.La_Tahzan.html</td>\n",
       "      <td>4134</td>\n",
       "      <td>La Tahzan</td>\n",
       "    </tr>\n",
       "    <tr>\n",
       "      <th>2869</th>\n",
       "      <td>4.61</td>\n",
       "      <td>2</td>\n",
       "      <td>NaN</td>\n",
       "      <td>good_reads:book</td>\n",
       "      <td>https://www.goodreads.com/author/show/8182217....</td>\n",
       "      <td>NaN</td>\n",
       "      <td>NaN</td>\n",
       "      <td>dir29/22031070-my-death-experiences---a-preach...</td>\n",
       "      <td>23</td>\n",
       "      <td>My Death Experiences - A Preacherâs 18 Apoca...</td>\n",
       "    </tr>\n",
       "    <tr>\n",
       "      <th>3643</th>\n",
       "      <td>NaN</td>\n",
       "      <td>None</td>\n",
       "      <td>None</td>\n",
       "      <td>None</td>\n",
       "      <td>None</td>\n",
       "      <td>NaN</td>\n",
       "      <td>NaN</td>\n",
       "      <td>dir37/9658936-harry-potter.html</td>\n",
       "      <td>None</td>\n",
       "      <td>None</td>\n",
       "    </tr>\n",
       "    <tr>\n",
       "      <th>5282</th>\n",
       "      <td>NaN</td>\n",
       "      <td>None</td>\n",
       "      <td>None</td>\n",
       "      <td>None</td>\n",
       "      <td>None</td>\n",
       "      <td>NaN</td>\n",
       "      <td>NaN</td>\n",
       "      <td>dir53/113138.The_Winner.html</td>\n",
       "      <td>None</td>\n",
       "      <td>None</td>\n",
       "    </tr>\n",
       "    <tr>\n",
       "      <th>5572</th>\n",
       "      <td>3.71</td>\n",
       "      <td>35</td>\n",
       "      <td>8423336603</td>\n",
       "      <td>good_reads:book</td>\n",
       "      <td>https://www.goodreads.com/author/show/285658.E...</td>\n",
       "      <td>NaN</td>\n",
       "      <td>/genres/fiction</td>\n",
       "      <td>dir56/890680._rase_una_vez_el_amor_pero_tuve_q...</td>\n",
       "      <td>403</td>\n",
       "      <td>Ãrase una vez el amor pero tuve que matarlo. ...</td>\n",
       "    </tr>\n",
       "    <tr>\n",
       "      <th>5658</th>\n",
       "      <td>4.32</td>\n",
       "      <td>44</td>\n",
       "      <td>NaN</td>\n",
       "      <td>good_reads:book</td>\n",
       "      <td>https://www.goodreads.com/author/show/25307.Ro...</td>\n",
       "      <td>NaN</td>\n",
       "      <td>/genres/fantasy|/genres/fantasy|/genres/epic-f...</td>\n",
       "      <td>dir57/5533041-assassin-s-apprentice-royal-assa...</td>\n",
       "      <td>3850</td>\n",
       "      <td>Assassin's Apprentice / Royal Assassin (Farsee...</td>\n",
       "    </tr>\n",
       "    <tr>\n",
       "      <th>5683</th>\n",
       "      <td>4.56</td>\n",
       "      <td>204</td>\n",
       "      <td>NaN</td>\n",
       "      <td>good_reads:book</td>\n",
       "      <td>https://www.goodreads.com/author/show/3097905....</td>\n",
       "      <td>NaN</td>\n",
       "      <td>/genres/fantasy|/genres/young-adult|/genres/ro...</td>\n",
       "      <td>dir57/12474623-tiger-s-dream.html</td>\n",
       "      <td>895</td>\n",
       "      <td>Tiger's Dream (The Tiger Saga, #5)</td>\n",
       "    </tr>\n",
       "  </tbody>\n",
       "</table>\n",
       "</div>"
      ],
      "text/plain": [
       "      rating review_count        isbn         booktype  \\\n",
       "2442    4.23          526         NaN  good_reads:book   \n",
       "2869    4.61            2         NaN  good_reads:book   \n",
       "3643     NaN         None        None             None   \n",
       "5282     NaN         None        None             None   \n",
       "5572    3.71           35  8423336603  good_reads:book   \n",
       "5658    4.32           44         NaN  good_reads:book   \n",
       "5683    4.56          204         NaN  good_reads:book   \n",
       "\n",
       "                                             author_url  year  \\\n",
       "2442  https://www.goodreads.com/author/show/623606.A...   NaN   \n",
       "2869  https://www.goodreads.com/author/show/8182217....   NaN   \n",
       "3643                                               None   NaN   \n",
       "5282                                               None   NaN   \n",
       "5572  https://www.goodreads.com/author/show/285658.E...   NaN   \n",
       "5658  https://www.goodreads.com/author/show/25307.Ro...   NaN   \n",
       "5683  https://www.goodreads.com/author/show/3097905....   NaN   \n",
       "\n",
       "                                             genre_urls  \\\n",
       "2442  /genres/religion|/genres/islam|/genres/non-fic...   \n",
       "2869                                                NaN   \n",
       "3643                                                NaN   \n",
       "5282                                                NaN   \n",
       "5572                                    /genres/fiction   \n",
       "5658  /genres/fantasy|/genres/fantasy|/genres/epic-f...   \n",
       "5683  /genres/fantasy|/genres/young-adult|/genres/ro...   \n",
       "\n",
       "                                                    dir rating_count  \\\n",
       "2442                       dir25/1301625.La_Tahzan.html         4134   \n",
       "2869  dir29/22031070-my-death-experiences---a-preach...           23   \n",
       "3643                    dir37/9658936-harry-potter.html         None   \n",
       "5282                       dir53/113138.The_Winner.html         None   \n",
       "5572  dir56/890680._rase_una_vez_el_amor_pero_tuve_q...          403   \n",
       "5658  dir57/5533041-assassin-s-apprentice-royal-assa...         3850   \n",
       "5683                  dir57/12474623-tiger-s-dream.html          895   \n",
       "\n",
       "                                                   name  \n",
       "2442                                          La Tahzan  \n",
       "2869  My Death Experiences - A Preacherâs 18 Apoca...  \n",
       "3643                                               None  \n",
       "5282                                               None  \n",
       "5572  Ãrase una vez el amor pero tuve que matarlo. ...  \n",
       "5658  Assassin's Apprentice / Royal Assassin (Farsee...  \n",
       "5683                 Tiger's Dream (The Tiger Saga, #5)  "
      ]
     },
     "execution_count": 14,
     "metadata": {},
     "output_type": "execute_result"
    }
   ],
   "source": [
    "df[df.year.isnull()]"
   ]
  },
  {
   "cell_type": "markdown",
   "metadata": {},
   "source": [
    "Get rid of the incomplete data"
   ]
  },
  {
   "cell_type": "code",
   "execution_count": 15,
   "metadata": {
    "collapsed": false
   },
   "outputs": [
    {
     "data": {
      "text/plain": [
       "(5993, 10)"
      ]
     },
     "execution_count": 15,
     "metadata": {},
     "output_type": "execute_result"
    }
   ],
   "source": [
    "df = df[df.year.notnull()]\n",
    "df.shape"
   ]
  },
  {
   "cell_type": "markdown",
   "metadata": {},
   "source": [
    "Removed 7 null rows. Now we can convert to int."
   ]
  },
  {
   "cell_type": "code",
   "execution_count": 16,
   "metadata": {
    "collapsed": true
   },
   "outputs": [],
   "source": [
    "df['rating_count']=df.rating_count.astype(int)\n",
    "df['review_count']=df.review_count.astype(int)\n",
    "df['year']=df.year.astype(int)"
   ]
  },
  {
   "cell_type": "code",
   "execution_count": 17,
   "metadata": {
    "collapsed": false
   },
   "outputs": [
    {
     "data": {
      "text/plain": [
       "rating          float64\n",
       "review_count      int64\n",
       "isbn             object\n",
       "booktype         object\n",
       "author_url       object\n",
       "year              int64\n",
       "genre_urls       object\n",
       "dir              object\n",
       "rating_count      int64\n",
       "name             object\n",
       "dtype: object"
      ]
     },
     "execution_count": 17,
     "metadata": {},
     "output_type": "execute_result"
    }
   ],
   "source": [
    "df.dtypes"
   ]
  },
  {
   "cell_type": "code",
   "execution_count": 18,
   "metadata": {
    "collapsed": false
   },
   "outputs": [
    {
     "data": {
      "text/html": [
       "<div>\n",
       "<table border=\"1\" class=\"dataframe\">\n",
       "  <thead>\n",
       "    <tr style=\"text-align: right;\">\n",
       "      <th></th>\n",
       "      <th>rating</th>\n",
       "      <th>review_count</th>\n",
       "      <th>isbn</th>\n",
       "      <th>booktype</th>\n",
       "      <th>author_url</th>\n",
       "      <th>year</th>\n",
       "      <th>genre_urls</th>\n",
       "      <th>dir</th>\n",
       "      <th>rating_count</th>\n",
       "      <th>name</th>\n",
       "    </tr>\n",
       "  </thead>\n",
       "  <tbody>\n",
       "    <tr>\n",
       "      <th>1718</th>\n",
       "      <td>5.0</td>\n",
       "      <td>28</td>\n",
       "      <td>NaN</td>\n",
       "      <td>good_reads:book</td>\n",
       "      <td>https://www.goodreads.com/author/show/6467808....</td>\n",
       "      <td>2014</td>\n",
       "      <td>/genres/poetry|/genres/childrens</td>\n",
       "      <td>dir18/22204746-an-elephant-is-on-my-house.html</td>\n",
       "      <td>64</td>\n",
       "      <td>An Elephant Is On My House</td>\n",
       "    </tr>\n",
       "  </tbody>\n",
       "</table>\n",
       "</div>"
      ],
      "text/plain": [
       "      rating  review_count isbn         booktype  \\\n",
       "1718     5.0            28  NaN  good_reads:book   \n",
       "\n",
       "                                             author_url  year  \\\n",
       "1718  https://www.goodreads.com/author/show/6467808....  2014   \n",
       "\n",
       "                            genre_urls  \\\n",
       "1718  /genres/poetry|/genres/childrens   \n",
       "\n",
       "                                                 dir  rating_count  \\\n",
       "1718  dir18/22204746-an-elephant-is-on-my-house.html            64   \n",
       "\n",
       "                            name  \n",
       "1718  An Elephant Is On My House  "
      ]
     },
     "execution_count": 18,
     "metadata": {},
     "output_type": "execute_result"
    }
   ],
   "source": [
    "df[(df.rating > 4.9) & (df.review_count > 9)]"
   ]
  },
  {
   "cell_type": "markdown",
   "metadata": {},
   "source": [
    "### Visualization"
   ]
  },
  {
   "cell_type": "code",
   "execution_count": 52,
   "metadata": {
    "collapsed": true
   },
   "outputs": [],
   "source": [
    "#sets up pandas table display\n",
    "pd.set_option('display.width', 500)\n",
    "pd.set_option('display.max_columns', 100)\n",
    "pd.set_option('display.notebook_repr_html', True)\n",
    "import seaborn as sns #sets up styles and gives us more plotting options"
   ]
  },
  {
   "cell_type": "code",
   "execution_count": 72,
   "metadata": {
    "collapsed": false
   },
   "outputs": [
    {
     "data": {
      "image/png": "[encoded data removed]",
      "text/plain": [
       "<matplotlib.figure.Figure at 0x113dffba8>"
      ]
     },
     "metadata": {},
     "output_type": "display_data"
    }
   ],
   "source": [
    "df.rating.hist()\n",
    "plt.show() # plt.show(1)"
   ]
  },
  {
   "cell_type": "code",
   "execution_count": 83,
   "metadata": {
    "collapsed": false
   },
   "outputs": [
    {
     "data": {
      "image/png": "[encoded data removed]",
      "text/plain": [
       "<matplotlib.figure.Figure at 0x10de16748>"
      ]
     },
     "metadata": {},
     "output_type": "display_data"
    }
   ],
   "source": [
    "meanrat=df.rating.mean()\n",
    "with sns.axes_style(\"whitegrid\"):\n",
    "    df.rating.hist(bins=30, alpha=0.4);\n",
    "    plt.axvline(meanrat, 0, 0.75, color='r', label='Mean')\n",
    "    plt.xlabel(\"average rating of book\")\n",
    "    plt.ylabel(\"counts\")\n",
    "    plt.title(\"Ratings Histogram\")\n",
    "    plt.legend()\n",
    "    plt.show()"
   ]
  },
  {
   "cell_type": "code",
   "execution_count": 92,
   "metadata": {
    "collapsed": false
   },
   "outputs": [
    {
     "data": {
      "image/png": "[encoded data removed]",
      "text/plain": [
       "<matplotlib.figure.Figure at 0x1131d6e10>"
      ]
     },
     "metadata": {},
     "output_type": "display_data"
    }
   ],
   "source": [
    "df.review_count.hist(bins=np.arange(0, 40000, 400))\n",
    "plt.show()"
   ]
  },
  {
   "cell_type": "markdown",
   "metadata": {},
   "source": [
    "Rescale x-axis to be logarithmic to more easily see structure"
   ]
  },
  {
   "cell_type": "code",
   "execution_count": 93,
   "metadata": {
    "collapsed": false
   },
   "outputs": [
    {
     "data": {
      "image/png": "[encoded data removed]",
      "text/plain": [
       "<matplotlib.figure.Figure at 0x113c760b8>"
      ]
     },
     "metadata": {},
     "output_type": "display_data"
    }
   ],
   "source": [
    "df.review_count.hist(bins=100, alpha=0.4)\n",
    "plt.xscale(\"log\");\n",
    "plt.show()"
   ]
  },
  {
   "cell_type": "markdown",
   "metadata": {},
   "source": [
    "Another way to show"
   ]
  },
  {
   "cell_type": "code",
   "execution_count": 100,
   "metadata": {
    "collapsed": false
   },
   "outputs": [
    {
     "data": {
      "image/png": "[encoded data removed]",
      "text/plain": [
       "<matplotlib.figure.Figure at 0x113afb668>"
      ]
     },
     "metadata": {},
     "output_type": "display_data"
    }
   ],
   "source": [
    "plt.hist(df.rating_count.values, bins=100, alpha=0.4)\n",
    "plt.show()"
   ]
  },
  {
   "cell_type": "markdown",
   "metadata": {},
   "source": [
    "Scatterplot in matplotlib of rating against year. By setting the alpha transparency low we can how the density of highly rated books on goodreads has changed."
   ]
  },
  {
   "cell_type": "code",
   "execution_count": 98,
   "metadata": {
    "collapsed": false
   },
   "outputs": [
    {
     "data": {
      "image/png": "[encoded data removed]",
      "text/plain": [
       "<matplotlib.figure.Figure at 0x10ce467f0>"
      ]
     },
     "metadata": {},
     "output_type": "display_data"
    }
   ],
   "source": [
    "plt.scatter(df.year, df.rating, alpha=.08)\n",
    "plt.xlim([1900,2015])\n",
    "plt.xlabel(\"Year\")\n",
    "plt.ylabel(\"Rating\")\n",
    "plt.show()"
   ]
  },
  {
   "cell_type": "markdown",
   "metadata": {},
   "source": [
    "### Numpy Arrays"
   ]
  },
  {
   "cell_type": "code",
   "execution_count": 101,
   "metadata": {
    "collapsed": true
   },
   "outputs": [],
   "source": [
    "alist = [1,2,3,4,5]"
   ]
  },
  {
   "cell_type": "code",
   "execution_count": 102,
   "metadata": {
    "collapsed": false
   },
   "outputs": [
    {
     "data": {
      "text/plain": [
       "[1, 2, 3, 4, 5, 1, 2, 3, 4, 5]"
      ]
     },
     "execution_count": 102,
     "metadata": {},
     "output_type": "execute_result"
    }
   ],
   "source": [
    "alist + alist"
   ]
  },
  {
   "cell_type": "code",
   "execution_count": 103,
   "metadata": {
    "collapsed": false,
    "scrolled": true
   },
   "outputs": [
    {
     "data": {
      "text/plain": [
       "array([ 2,  4,  6,  8, 10])"
      ]
     },
     "execution_count": 103,
     "metadata": {},
     "output_type": "execute_result"
    }
   ],
   "source": [
    "np.array(alist) + np.array(alist)"
   ]
  },
  {
   "cell_type": "code",
   "execution_count": 105,
   "metadata": {
    "collapsed": false
   },
   "outputs": [
    {
     "data": {
      "text/plain": [
       "array([ 1,  4,  9, 16, 25])"
      ]
     },
     "execution_count": 105,
     "metadata": {},
     "output_type": "execute_result"
    }
   ],
   "source": [
    "np.array(alist)**2"
   ]
  },
  {
   "cell_type": "code",
   "execution_count": 107,
   "metadata": {
    "collapsed": false
   },
   "outputs": [
    {
     "name": "stdout",
     "output_type": "stream",
     "text": [
      "[ 2  4  6  8 10]\n"
     ]
    }
   ],
   "source": [
    "a=np.array([1,2,3,4,5])\n",
    "b=np.array([1,2,3,4,5])\n",
    "print(a+b)"
   ]
  },
  {
   "cell_type": "code",
   "execution_count": 108,
   "metadata": {
    "collapsed": false
   },
   "outputs": [
    {
     "data": {
      "text/plain": [
       "array([2, 3, 4, 5, 6])"
      ]
     },
     "execution_count": 108,
     "metadata": {},
     "output_type": "execute_result"
    }
   ],
   "source": [
    "a+1"
   ]
  },
  {
   "cell_type": "code",
   "execution_count": 110,
   "metadata": {
    "collapsed": false
   },
   "outputs": [
    {
     "name": "stdout",
     "output_type": "stream",
     "text": [
      "[2 3 4 5 6]\n"
     ]
    }
   ],
   "source": [
    "print(a+1)"
   ]
  },
  {
   "cell_type": "markdown",
   "metadata": {},
   "source": [
    "### All Together - Hamlet"
   ]
  },
  {
   "cell_type": "markdown",
   "metadata": {},
   "source": [
    "Access Hamlet word by word - there are roughly 32,000 words in Hamlet"
   ]
  },
  {
   "cell_type": "code",
   "execution_count": 2,
   "metadata": {
    "collapsed": false
   },
   "outputs": [
    {
     "name": "stdout",
     "output_type": "stream",
     "text": [
      "31659\n"
     ]
    }
   ],
   "source": [
    "with open(\"./data/hamlet.txt\") as hamletfile:\n",
    "    hamlettext=hamletfile.read()\n",
    "    hamlettokens=hamlettext.split()\n",
    "    print(len(hamlettokens))"
   ]
  },
  {
   "cell_type": "code",
   "execution_count": 6,
   "metadata": {
    "collapsed": false
   },
   "outputs": [
    {
     "data": {
      "text/plain": [
       "95"
      ]
     },
     "execution_count": 6,
     "metadata": {},
     "output_type": "execute_result"
    }
   ],
   "source": [
    "hamletlctokens=[word.lower() for word in hamlettokens]\n",
    "hamletlctokens.count(\"thou\")"
   ]
  },
  {
   "cell_type": "markdown",
   "metadata": {
    "collapsed": true
   },
   "source": [
    "Find a unique set of words using python's 'set' data structure"
   ]
  },
  {
   "cell_type": "code",
   "execution_count": 9,
   "metadata": {
    "collapsed": true
   },
   "outputs": [],
   "source": [
    "uniquelctokens=set(hamletlctokens)"
   ]
  },
  {
   "cell_type": "code",
   "execution_count": 23,
   "metadata": {
    "collapsed": false
   },
   "outputs": [],
   "source": [
    "tokendict={}\n",
    "for ut in uniquelctokens:\n",
    "    tokendict[ut]=hamletlctokens.count(ut)"
   ]
  },
  {
   "cell_type": "code",
   "execution_count": 49,
   "metadata": {
    "collapsed": false
   },
   "outputs": [
    {
     "data": {
      "text/plain": [
       "1136"
      ]
     },
     "execution_count": 49,
     "metadata": {},
     "output_type": "execute_result"
    }
   ],
   "source": [
    "tokendict['the']"
   ]
  },
  {
   "cell_type": "markdown",
   "metadata": {},
   "source": [
    "Find the 15 most used words"
   ]
  },
  {
   "cell_type": "code",
   "execution_count": 51,
   "metadata": {
    "collapsed": false
   },
   "outputs": [
    {
     "data": {
      "text/plain": [
       "[('the', 1136),\n",
       " ('and', 943),\n",
       " ('to', 720),\n",
       " ('of', 667),\n",
       " ('a', 527),\n",
       " ('my', 512),\n",
       " ('i', 510),\n",
       " ('in', 420),\n",
       " ('you', 412),\n",
       " ('ham.', 358),\n",
       " ('that', 337),\n",
       " ('it', 324),\n",
       " ('is', 320),\n",
       " ('his', 295),\n",
       " ('not', 270)]"
      ]
     },
     "execution_count": 51,
     "metadata": {},
     "output_type": "execute_result"
    }
   ],
   "source": [
    "freqwords = sorted(tokendict.items(), key=lambda item: -item[1])[:15]\n",
    "freqwords"
   ]
  },
  {
   "cell_type": "code",
   "execution_count": 64,
   "metadata": {
    "collapsed": false
   },
   "outputs": [
    {
     "data": {
      "image/png": "[encoded data removed]",
      "text/plain": [
       "<matplotlib.figure.Figure at 0x118ff1b38>"
      ]
     },
     "metadata": {},
     "output_type": "display_data"
    }
   ],
   "source": [
    "pos = np.arange(len(freqwords))\n",
    "plt.bar(pos, [e[1] for e in freqwords]);\n",
    "plt.xticks(pos, [e[0] for e in freqwords]);\n",
    "plt.show()"
   ]
  }
 ],
 "metadata": {
  "kernelspec": {
   "display_name": "Python 3",
   "language": "python",
   "name": "python3"
  },
  "language_info": {
   "codemirror_mode": {
    "name": "ipython",
    "version": 3
   },
   "file_extension": ".py",
   "mimetype": "text/x-python",
   "name": "python",
   "nbconvert_exporter": "python",
   "pygments_lexer": "ipython3",
   "version": "3.6.0"
  }
 },
 "nbformat": 4,
 "nbformat_minor": 2
}
